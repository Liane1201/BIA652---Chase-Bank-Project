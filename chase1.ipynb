{
 "cells": [
  {
   "cell_type": "markdown",
   "metadata": {},
   "source": [
    "# Predict the deposite of 2017"
   ]
  },
  {
   "cell_type": "code",
   "execution_count": 1,
   "metadata": {},
   "outputs": [
    {
     "name": "stderr",
     "output_type": "stream",
     "text": [
      "/Applications/anaconda/lib/python3.6/site-packages/IPython/core/interactiveshell.py:2717: DtypeWarning: Columns (28) have mixed types. Specify dtype option on import or set low_memory=False.\n",
      "  interactivity=interactivity, compiler=compiler, result=result)\n"
     ]
    }
   ],
   "source": [
    "import pandas as pd\n",
    "df2010 = pd.read_csv('ALL_2010.csv', thousands=',')\n",
    "df2011 = pd.read_csv('ALL_2011.csv', thousands=',')\n",
    "df2012 = pd.read_csv('ALL_2012.csv', thousands=',')\n",
    "df2013 = pd.read_csv('ALL_2013.csv', thousands=',')\n",
    "df2014 = pd.read_csv('ALL_2014.csv', thousands=',')\n",
    "df2015 = pd.read_csv('ALL_2015.csv', thousands=',')\n",
    "df2016 = pd.read_csv('ALL_2016.csv', thousands=',')"
   ]
  },
  {
   "cell_type": "code",
   "execution_count": 2,
   "metadata": {},
   "outputs": [
    {
     "data": {
      "text/plain": [
       "<map at 0x130fa6390>"
      ]
     },
     "execution_count": 2,
     "metadata": {},
     "output_type": "execute_result"
    }
   ],
   "source": [
    "df2010_chase = df2010[df2010.NAMEFULL == 'JPMorgan Chase Bank, National Association'][['BRNUM','DEPSUMBR','STNAMEBR']]\n",
    "df2011_chase = df2011[df2011.NAMEFULL == 'JPMorgan Chase Bank, National Association'][['BRNUM','DEPSUMBR','STNAMEBR']]\n",
    "df2012_chase = df2012[df2012.NAMEFULL == 'JPMorgan Chase Bank, National Association'][['BRNUM','DEPSUMBR','STNAMEBR']]\n",
    "df2013_chase = df2013[df2013.NAMEFULL == 'JPMorgan Chase Bank, National Association'][['BRNUM','DEPSUMBR','STNAMEBR']]\n",
    "df2014_chase = df2014[df2014.NAMEFULL == 'JPMorgan Chase Bank, National Association'][['BRNUM','DEPSUMBR','STNAMEBR']]\n",
    "df2015_chase = df2015[df2015.NAMEFULL == 'JPMorgan Chase Bank, National Association'][['BRNUM','DEPSUMBR','STNAMEBR']]\n",
    "df2016_chase = df2016[df2016.NAMEFULL == 'JPMorgan Chase Bank, National Association'][['BRNUM','DEPSUMBR','STNAMEBR']]\n",
    "# df2017_chase = df2017[df2017.NAMEFULL == 'JPMorgan Chase Bank, National Association'][['BRNUM','DEPSUMBR','STNAMEBR']]\n",
    "map(lambda word: ' '.join(map(str.capitalize, word.split())), df2016_chase.STNAMEBR)\n",
    "# df2016_chase.STNAMEBR.str.lower()\n",
    "# df2016_chase[:5]"
   ]
  },
  {
   "cell_type": "code",
   "execution_count": 3,
   "metadata": {
    "collapsed": true
   },
   "outputs": [],
   "source": [
    "df2010_chase.loc[df2010_chase.STNAMEBR == 'District of Columbia', 'STNAMEBR'] ='District Of Columbia'\n",
    "df2011_chase.loc[df2011_chase.STNAMEBR == 'District of Columbia', 'STNAMEBR'] ='District Of Columbia'"
   ]
  },
  {
   "cell_type": "code",
   "execution_count": 4,
   "metadata": {},
   "outputs": [
    {
     "data": {
      "text/plain": [
       "((5251, 3), (5431, 3), (5603, 3), (5694, 3), (5679, 3), (5545, 3), (5413, 3))"
      ]
     },
     "execution_count": 4,
     "metadata": {},
     "output_type": "execute_result"
    }
   ],
   "source": [
    "import numpy as np\n",
    "np.shape(df2010_chase),np.shape(df2011_chase),np.shape(df2012_chase),np.shape(df2013_chase),np.shape(df2014_chase),np.shape(df2015_chase),np.shape(df2016_chase)\n",
    "# ,np.shape(df2017_chase)"
   ]
  },
  {
   "cell_type": "code",
   "execution_count": 5,
   "metadata": {
    "collapsed": true
   },
   "outputs": [],
   "source": [
    "chase01 = pd.merge(df2010_chase, df2011_chase, on = ['BRNUM','STNAMEBR'], how = 'outer')\n",
    "chase012 = pd.merge(chase01, df2011_chase, on = ['BRNUM','STNAMEBR'], how = 'outer')\n",
    "chase0123 = pd.merge(chase012, df2013_chase, on = ['BRNUM','STNAMEBR'], how = 'outer')\n",
    "chase01234 = pd.merge(chase0123, df2014_chase, on = ['BRNUM','STNAMEBR'], how = 'outer')\n",
    "chase012345 = pd.merge(chase01234, df2015_chase, on = ['BRNUM','STNAMEBR'], how = 'outer')\n",
    "chaseall = pd.merge(chase012345, df2016_chase, on = ['BRNUM','STNAMEBR'], how = 'outer')\n",
    "chaseall.columns = ['branch_number','2010','state','2011','2012','2013','2014','2015','2016']\n",
    "chaseall = chaseall[['branch_number','state','2010','2011','2012','2013','2014','2015','2016']].fillna(0)\n",
    "# pd.to_numeric(chaseall['2010'])\n",
    "# chaseall"
   ]
  },
  {
   "cell_type": "code",
   "execution_count": 6,
   "metadata": {
    "collapsed": true
   },
   "outputs": [],
   "source": [
    "chaseall = chaseall[(chaseall.loc[:, '2010':'2016'] != 0).any(axis=1)]\n",
    "# chaseall"
   ]
  },
  {
   "cell_type": "markdown",
   "metadata": {},
   "source": [
    "### Linear regression"
   ]
  },
  {
   "cell_type": "code",
   "execution_count": 7,
   "metadata": {},
   "outputs": [
    {
     "data": {
      "text/plain": [
       "LinearRegression(copy_X=True, fit_intercept=True, n_jobs=1, normalize=False)"
      ]
     },
     "execution_count": 7,
     "metadata": {},
     "output_type": "execute_result"
    }
   ],
   "source": [
    "from sklearn import linear_model\n",
    "X = chaseall[['2010','2011','2012','2013','2014']]\n",
    "Y = chaseall[['2015']]\n",
    "P = chaseall[['2012','2013','2014','2015','2016']]\n",
    "linearmodel = linear_model.LinearRegression()\n",
    "linearmodel.fit(X , Y )"
   ]
  },
  {
   "cell_type": "code",
   "execution_count": 8,
   "metadata": {},
   "outputs": [
    {
     "data": {
      "text/plain": [
       "array([[  1.45538079e+05],\n",
       "       [  5.28561689e+07],\n",
       "       [  1.23012383e+04],\n",
       "       ..., \n",
       "       [  1.58666499e+04],\n",
       "       [  3.17605025e+04],\n",
       "       [  1.08742653e+04]])"
      ]
     },
     "execution_count": 8,
     "metadata": {},
     "output_type": "execute_result"
    }
   ],
   "source": [
    "linearmodel.predict(P)"
   ]
  },
  {
   "cell_type": "markdown",
   "metadata": {},
   "source": [
    "# Where to build new branches & which to close "
   ]
  },
  {
   "cell_type": "markdown",
   "metadata": {},
   "source": [
    "### chase"
   ]
  },
  {
   "cell_type": "code",
   "execution_count": 1,
   "metadata": {},
   "outputs": [
    {
     "ename": "NameError",
     "evalue": "name 'chaseall' is not defined",
     "output_type": "error",
     "traceback": [
      "\u001b[0;31m---------------------------------------------------------------------------\u001b[0m",
      "\u001b[0;31mNameError\u001b[0m                                 Traceback (most recent call last)",
      "\u001b[0;32m<ipython-input-1-93bf06e9f650>\u001b[0m in \u001b[0;36m<module>\u001b[0;34m()\u001b[0m\n\u001b[0;32m----> 1\u001b[0;31m \u001b[0mchase2016\u001b[0m \u001b[0;34m=\u001b[0m \u001b[0mchaseall\u001b[0m\u001b[0;34m[\u001b[0m\u001b[0;34m[\u001b[0m\u001b[0;34m'branch_number'\u001b[0m\u001b[0;34m,\u001b[0m \u001b[0;34m'state'\u001b[0m\u001b[0;34m,\u001b[0m\u001b[0;34m'2016'\u001b[0m\u001b[0;34m]\u001b[0m\u001b[0;34m]\u001b[0m\u001b[0;34m\u001b[0m\u001b[0m\n\u001b[0m\u001b[1;32m      2\u001b[0m \u001b[0mchase2016\u001b[0m \u001b[0;34m=\u001b[0m \u001b[0mchase2016\u001b[0m\u001b[0;34m[\u001b[0m\u001b[0;34m(\u001b[0m\u001b[0mchase2016\u001b[0m\u001b[0;34m.\u001b[0m\u001b[0mloc\u001b[0m\u001b[0;34m[\u001b[0m\u001b[0;34m:\u001b[0m\u001b[0;34m,\u001b[0m \u001b[0;34m'2016'\u001b[0m\u001b[0;34m]\u001b[0m \u001b[0;34m!=\u001b[0m \u001b[0;36m0\u001b[0m\u001b[0;34m)\u001b[0m\u001b[0;34m]\u001b[0m\u001b[0;34m\u001b[0m\u001b[0m\n\u001b[1;32m      3\u001b[0m \u001b[0;31m# chase2016\u001b[0m\u001b[0;34m\u001b[0m\u001b[0;34m\u001b[0m\u001b[0m\n\u001b[1;32m      4\u001b[0m \u001b[0;34m\u001b[0m\u001b[0m\n\u001b[1;32m      5\u001b[0m \u001b[0mgroup2016\u001b[0m \u001b[0;34m=\u001b[0m \u001b[0mchase2016\u001b[0m\u001b[0;34m.\u001b[0m\u001b[0mgroupby\u001b[0m\u001b[0;34m(\u001b[0m\u001b[0;34m[\u001b[0m\u001b[0;34m'state'\u001b[0m\u001b[0;34m]\u001b[0m\u001b[0;34m)\u001b[0m\u001b[0;34m[\u001b[0m\u001b[0;34m'2016'\u001b[0m\u001b[0;34m]\u001b[0m\u001b[0;34m\u001b[0m\u001b[0m\n",
      "\u001b[0;31mNameError\u001b[0m: name 'chaseall' is not defined"
     ]
    }
   ],
   "source": [
    "chase2016 = chaseall[['branch_number', 'state','2016']]\n",
    "chase2016 = chase2016[(chase2016.loc[:, '2016'] != 0)]\n",
    "# chase2016\n",
    "\n",
    "group2016 = chase2016.groupby(['state'])['2016']\n",
    "\n",
    "chase2016 = pd.merge(group2016.count().to_frame(), group2016.sum().to_frame(), left_index=True, right_index=True)\n",
    "chase2016 = pd.merge(chase2016, group2016.median().to_frame(), left_index=True, right_index=True)\n",
    "# group2016.describe()\n",
    "chase2016 = chase2016.reset_index()\n",
    "chase2016.columns = ['state','2016count','2016sum','2016median']\n",
    "# chase2016"
   ]
  },
  {
   "cell_type": "code",
   "execution_count": 2,
   "metadata": {},
   "outputs": [
    {
     "ename": "NameError",
     "evalue": "name 'chaseall' is not defined",
     "output_type": "error",
     "traceback": [
      "\u001b[0;31m---------------------------------------------------------------------------\u001b[0m",
      "\u001b[0;31mNameError\u001b[0m                                 Traceback (most recent call last)",
      "\u001b[0;32m<ipython-input-2-a0a96f08030b>\u001b[0m in \u001b[0;36m<module>\u001b[0;34m()\u001b[0m\n\u001b[0;32m----> 1\u001b[0;31m \u001b[0mchase2015\u001b[0m \u001b[0;34m=\u001b[0m \u001b[0mchaseall\u001b[0m\u001b[0;34m[\u001b[0m\u001b[0;34m[\u001b[0m\u001b[0;34m'branch_number'\u001b[0m\u001b[0;34m,\u001b[0m \u001b[0;34m'state'\u001b[0m\u001b[0;34m,\u001b[0m\u001b[0;34m'2015'\u001b[0m\u001b[0;34m]\u001b[0m\u001b[0;34m]\u001b[0m\u001b[0;34m\u001b[0m\u001b[0m\n\u001b[0m\u001b[1;32m      2\u001b[0m \u001b[0mchase2015\u001b[0m \u001b[0;34m=\u001b[0m \u001b[0mchase2015\u001b[0m\u001b[0;34m[\u001b[0m\u001b[0;34m(\u001b[0m\u001b[0mchase2015\u001b[0m\u001b[0;34m.\u001b[0m\u001b[0mloc\u001b[0m\u001b[0;34m[\u001b[0m\u001b[0;34m:\u001b[0m\u001b[0;34m,\u001b[0m \u001b[0;34m'2015'\u001b[0m\u001b[0;34m]\u001b[0m \u001b[0;34m!=\u001b[0m \u001b[0;36m0\u001b[0m\u001b[0;34m)\u001b[0m\u001b[0;34m]\u001b[0m\u001b[0;34m\u001b[0m\u001b[0m\n\u001b[1;32m      3\u001b[0m \u001b[0;31m# chase2015\u001b[0m\u001b[0;34m\u001b[0m\u001b[0;34m\u001b[0m\u001b[0m\n\u001b[1;32m      4\u001b[0m \u001b[0;34m\u001b[0m\u001b[0m\n\u001b[1;32m      5\u001b[0m \u001b[0mgroup2015\u001b[0m \u001b[0;34m=\u001b[0m \u001b[0mchase2015\u001b[0m\u001b[0;34m.\u001b[0m\u001b[0mgroupby\u001b[0m\u001b[0;34m(\u001b[0m\u001b[0;34m[\u001b[0m\u001b[0;34m'state'\u001b[0m\u001b[0;34m]\u001b[0m\u001b[0;34m)\u001b[0m\u001b[0;34m[\u001b[0m\u001b[0;34m'2015'\u001b[0m\u001b[0;34m]\u001b[0m\u001b[0;34m\u001b[0m\u001b[0m\n",
      "\u001b[0;31mNameError\u001b[0m: name 'chaseall' is not defined"
     ]
    }
   ],
   "source": [
    "chase2015 = chaseall[['branch_number', 'state','2015']]\n",
    "chase2015 = chase2015[(chase2015.loc[:, '2015'] != 0)]\n",
    "# chase2015\n",
    "\n",
    "group2015 = chase2015.groupby(['state'])['2015']\n",
    "\n",
    "chase2015 = pd.merge(group2015.count().to_frame(), group2015.sum().to_frame(), left_index=True, right_index=True)\n",
    "chase2015 = pd.merge(chase2015, group2015.median().to_frame(), left_index=True, right_index=True)\n",
    "# group2015.describe()\n",
    "chase2015 = chase2015.reset_index()\n",
    "chase2015.columns = ['state','2015count','2015sum','2015median']\n",
    "# chase2015[:5]\n"
   ]
  },
  {
   "cell_type": "code",
   "execution_count": 11,
   "metadata": {},
   "outputs": [
    {
     "data": {
      "text/html": [
       "<div>\n",
       "<style>\n",
       "    .dataframe thead tr:only-child th {\n",
       "        text-align: right;\n",
       "    }\n",
       "\n",
       "    .dataframe thead th {\n",
       "        text-align: left;\n",
       "    }\n",
       "\n",
       "    .dataframe tbody tr th {\n",
       "        vertical-align: top;\n",
       "    }\n",
       "</style>\n",
       "<table border=\"1\" class=\"dataframe\">\n",
       "  <thead>\n",
       "    <tr style=\"text-align: right;\">\n",
       "      <th></th>\n",
       "      <th>state</th>\n",
       "      <th>2014count</th>\n",
       "      <th>2014sum</th>\n",
       "      <th>2014median</th>\n",
       "    </tr>\n",
       "  </thead>\n",
       "  <tbody>\n",
       "    <tr>\n",
       "      <th>0</th>\n",
       "      <td>Arizona</td>\n",
       "      <td>281</td>\n",
       "      <td>25260613.0</td>\n",
       "      <td>48889.0</td>\n",
       "    </tr>\n",
       "    <tr>\n",
       "      <th>1</th>\n",
       "      <td>California</td>\n",
       "      <td>1055</td>\n",
       "      <td>92974133.0</td>\n",
       "      <td>64634.0</td>\n",
       "    </tr>\n",
       "    <tr>\n",
       "      <th>2</th>\n",
       "      <td>Colorado</td>\n",
       "      <td>117</td>\n",
       "      <td>9965007.0</td>\n",
       "      <td>38067.0</td>\n",
       "    </tr>\n",
       "    <tr>\n",
       "      <th>3</th>\n",
       "      <td>Connecticut</td>\n",
       "      <td>52</td>\n",
       "      <td>5056325.0</td>\n",
       "      <td>76419.5</td>\n",
       "    </tr>\n",
       "    <tr>\n",
       "      <th>4</th>\n",
       "      <td>Florida</td>\n",
       "      <td>378</td>\n",
       "      <td>21621094.0</td>\n",
       "      <td>41907.5</td>\n",
       "    </tr>\n",
       "  </tbody>\n",
       "</table>\n",
       "</div>"
      ],
      "text/plain": [
       "         state  2014count     2014sum  2014median\n",
       "0      Arizona        281  25260613.0     48889.0\n",
       "1   California       1055  92974133.0     64634.0\n",
       "2     Colorado        117   9965007.0     38067.0\n",
       "3  Connecticut         52   5056325.0     76419.5\n",
       "4      Florida        378  21621094.0     41907.5"
      ]
     },
     "execution_count": 11,
     "metadata": {},
     "output_type": "execute_result"
    }
   ],
   "source": [
    "chase2014 = chaseall[['branch_number', 'state','2014']]\n",
    "chase2014 = chase2014[(chase2014.loc[:, '2014'] != 0)]\n",
    "# chase2014\n",
    "\n",
    "group2014 = chase2014.groupby(['state'])['2014']\n",
    "\n",
    "chase2014 = pd.merge(group2014.count().to_frame(), group2014.sum().to_frame(), left_index=True, right_index=True)\n",
    "chase2014 = pd.merge(chase2014, group2014.median().to_frame(), left_index=True, right_index=True)\n",
    "# group2014.describe()\n",
    "chase2014 = chase2014.reset_index()\n",
    "chase2014.columns = ['state','2014count','2014sum','2014median']\n",
    "# chase2014[:5]"
   ]
  },
  {
   "cell_type": "code",
   "execution_count": 12,
   "metadata": {},
   "outputs": [
    {
     "data": {
      "text/html": [
       "<div>\n",
       "<style>\n",
       "    .dataframe thead tr:only-child th {\n",
       "        text-align: right;\n",
       "    }\n",
       "\n",
       "    .dataframe thead th {\n",
       "        text-align: left;\n",
       "    }\n",
       "\n",
       "    .dataframe tbody tr th {\n",
       "        vertical-align: top;\n",
       "    }\n",
       "</style>\n",
       "<table border=\"1\" class=\"dataframe\">\n",
       "  <thead>\n",
       "    <tr style=\"text-align: right;\">\n",
       "      <th></th>\n",
       "      <th>state</th>\n",
       "      <th>2013count</th>\n",
       "      <th>2013sum</th>\n",
       "      <th>2013median</th>\n",
       "    </tr>\n",
       "  </thead>\n",
       "  <tbody>\n",
       "    <tr>\n",
       "      <th>0</th>\n",
       "      <td>Arizona</td>\n",
       "      <td>290</td>\n",
       "      <td>24024890.0</td>\n",
       "      <td>37939.0</td>\n",
       "    </tr>\n",
       "    <tr>\n",
       "      <th>1</th>\n",
       "      <td>California</td>\n",
       "      <td>1019</td>\n",
       "      <td>82061171.0</td>\n",
       "      <td>61688.0</td>\n",
       "    </tr>\n",
       "    <tr>\n",
       "      <th>2</th>\n",
       "      <td>Colorado</td>\n",
       "      <td>119</td>\n",
       "      <td>11073657.0</td>\n",
       "      <td>31327.0</td>\n",
       "    </tr>\n",
       "    <tr>\n",
       "      <th>3</th>\n",
       "      <td>Connecticut</td>\n",
       "      <td>51</td>\n",
       "      <td>4809790.0</td>\n",
       "      <td>70702.0</td>\n",
       "    </tr>\n",
       "    <tr>\n",
       "      <th>4</th>\n",
       "      <td>Florida</td>\n",
       "      <td>354</td>\n",
       "      <td>18528035.0</td>\n",
       "      <td>37199.0</td>\n",
       "    </tr>\n",
       "  </tbody>\n",
       "</table>\n",
       "</div>"
      ],
      "text/plain": [
       "         state  2013count     2013sum  2013median\n",
       "0      Arizona        290  24024890.0     37939.0\n",
       "1   California       1019  82061171.0     61688.0\n",
       "2     Colorado        119  11073657.0     31327.0\n",
       "3  Connecticut         51   4809790.0     70702.0\n",
       "4      Florida        354  18528035.0     37199.0"
      ]
     },
     "execution_count": 12,
     "metadata": {},
     "output_type": "execute_result"
    }
   ],
   "source": [
    "chase2013 = chaseall[['branch_number', 'state','2013']]\n",
    "chase2013 = chase2013[(chase2013.loc[:, '2013'] != 0)]\n",
    "# chase2013\n",
    "\n",
    "group2013 = chase2013.groupby(['state'])['2013']\n",
    "\n",
    "chase2013 = pd.merge(group2013.count().to_frame(), group2013.sum().to_frame(), left_index=True, right_index=True)\n",
    "chase2013 = pd.merge(chase2013, group2013.median().to_frame(), left_index=True, right_index=True)\n",
    "# group2013.describe()\n",
    "chase2013 = chase2013.reset_index()\n",
    "chase2013.columns = ['state','2013count','2013sum','2013median']\n",
    "# chase2013[:5]"
   ]
  },
  {
   "cell_type": "code",
   "execution_count": 13,
   "metadata": {
    "collapsed": true
   },
   "outputs": [],
   "source": [
    "chasesta = pd.merge(chase2013,chase2014, on = ['state'], how = 'outer')\n",
    "chasesta = pd.merge(chasesta,chase2015, on = ['state'], how = 'outer')\n",
    "chasesta = pd.merge(chasesta,chase2016, on = ['state'], how = 'outer')\n",
    "chasesta['2015label_change'] = chasesta['2015count']-chasesta['2014count'] \n",
    "chasesta['2016label_change'] = chasesta['2016count']-chasesta['2015count'] \n",
    "# chasesta"
   ]
  },
  {
   "cell_type": "code",
   "execution_count": 14,
   "metadata": {
    "collapsed": true
   },
   "outputs": [],
   "source": [
    "def changetolabel(rows):\n",
    "    a = list()\n",
    "    for row in rows:\n",
    "        if row > 0: \n",
    "            a.append(1)\n",
    "        elif row == 0:\n",
    "            a.append(2)\n",
    "        else:\n",
    "            a.append(-1)\n",
    "    return a \n",
    "chasesta['2015label'] = changetolabel(chasesta['2015label_change'])\n",
    "chasesta['2016label'] = changetolabel(chasesta['2016label_change'])\n",
    "# chasesta"
   ]
  },
  {
   "cell_type": "code",
   "execution_count": 15,
   "metadata": {
    "collapsed": true
   },
   "outputs": [],
   "source": [
    "states = pd.DataFrame(['Alabama', 'Alaska', 'Arizona', 'Arkansas', 'California', 'Colorado', 'Connecticut', 'Delaware', \n",
    "                       'Florida', 'Georgia', 'Hawaii', 'Idaho', 'Illinois', 'Indiana', 'Iowa', 'Kansas', 'Kentucky', \n",
    "                       'Louisiana', 'Maine', 'Maryland', 'Massachusetts', 'Michigan', 'Minnesota', 'Mississippi', \n",
    "                       'Missouri', 'Montana', 'Nebraska', 'Nevada', 'New Hampshire', 'New Jersey', 'New Mexico', \n",
    "                       'New York', 'North Carolina', 'North Dakota', 'Ohio', 'Oklahoma', 'Oregon', 'Pennsylvania', \n",
    "                       'Rhode Island', 'South Carolina', 'South Dakota', 'Tennessee', 'Texas', 'Utah', 'Vermont', \n",
    "                       'Virginia', 'Washington', 'West Virginia', 'Wisconsin', 'Wyoming'],columns = ['state'])\n",
    "states = pd.merge(states, chasesta, on = ['state'], how = 'outer').fillna(0)\n",
    "# states.drop([''])\n",
    "# states"
   ]
  },
  {
   "cell_type": "markdown",
   "metadata": {},
   "source": [
    "### BOA"
   ]
  },
  {
   "cell_type": "code",
   "execution_count": 16,
   "metadata": {
    "collapsed": true
   },
   "outputs": [],
   "source": [
    "df2014_boa = df2014[df2014.NAMEFULL == 'Bank of America, National Association'][['BRNUM','DEPSUMBR','STNAMEBR']]\n",
    "boa2014 = df2014_boa[(df2014_boa.loc[:, 'DEPSUMBR'] != 0)]\n",
    "boa2014 = boa2014.groupby(['STNAMEBR'])['DEPSUMBR'].count().to_frame()\n",
    "boa2014 = boa2014.reset_index()\n",
    "boa2014.columns = ['state','boa_count']\n",
    "# boa2014\n",
    "\n",
    "df2015_boa = df2015[df2015.NAMEFULL == 'Bank of America, National Association'][['BRNUM','DEPSUMBR','STNAMEBR']]\n",
    "boa2015 = df2015_boa[(df2015_boa.loc[:, 'DEPSUMBR'] != 0)]\n",
    "boa2015 = boa2015.groupby(['STNAMEBR'])['DEPSUMBR'].count().to_frame()\n",
    "boa2015 = boa2015.reset_index()\n",
    "boa2015.columns = ['state','boa_count']\n",
    "# boa2015\n",
    "\n",
    "df2016_boa = df2016[df2016.NAMEFULL == 'Bank of America, National Association'][['BRNUM','DEPSUMBR','STNAMEBR']]\n",
    "boa2016 = df2016_boa[(df2016_boa.loc[:, 'DEPSUMBR'] != 0)]\n",
    "boa2016 = boa2016.groupby(['STNAMEBR'])['DEPSUMBR'].count().to_frame()\n",
    "boa2016 = boa2016.reset_index()\n",
    "boa2016.columns = ['state','boa_count']\n",
    "# boa2016"
   ]
  },
  {
   "cell_type": "markdown",
   "metadata": {},
   "source": [
    "### CITI"
   ]
  },
  {
   "cell_type": "code",
   "execution_count": 17,
   "metadata": {
    "collapsed": true
   },
   "outputs": [],
   "source": [
    "df2014_citi = df2014[df2014.NAMEFULL == 'Citibank, National Association'][['BRNUM','DEPSUMBR','STNAMEBR']]\n",
    "citi2014 = df2014_citi[(df2014_citi.loc[:, 'DEPSUMBR'] != 0)]\n",
    "citi2014 = citi2014.groupby(['STNAMEBR'])['DEPSUMBR'].count().to_frame()\n",
    "citi2014 = citi2014.reset_index()\n",
    "citi2014.columns = ['state','citi_count']\n",
    "citi2014\n",
    "\n",
    "df2015_citi = df2015[df2015.NAMEFULL == 'Citibank, National Association'][['BRNUM','DEPSUMBR','STNAMEBR']]\n",
    "citi2015 = df2015_citi[(df2015_citi.loc[:, 'DEPSUMBR'] != 0)]\n",
    "citi2015 = citi2015.groupby(['STNAMEBR'])['DEPSUMBR'].count().to_frame()\n",
    "citi2015 = citi2015.reset_index()\n",
    "citi2015.columns = ['state','citi_count']\n",
    "# citi2015\n",
    "\n",
    "df2016_citi = df2016[df2016.NAMEFULL == 'Citibank, National Association'][['BRNUM','DEPSUMBR','STNAMEBR']]\n",
    "citi2016 = df2016_citi[(df2016_citi.loc[:, 'DEPSUMBR'] != 0)]\n",
    "citi2016 = citi2016.groupby(['STNAMEBR'])['DEPSUMBR'].count().to_frame()\n",
    "citi2016 = citi2016.reset_index()\n",
    "citi2016.columns = ['state','citi_count']\n",
    "# citi2016\n"
   ]
  },
  {
   "cell_type": "markdown",
   "metadata": {},
   "source": [
    "### income"
   ]
  },
  {
   "cell_type": "code",
   "execution_count": 18,
   "metadata": {},
   "outputs": [
    {
     "name": "stderr",
     "output_type": "stream",
     "text": [
      "/Applications/anaconda/lib/python3.6/site-packages/ipykernel_launcher.py:4: SettingWithCopyWarning: \n",
      "A value is trying to be set on a copy of a slice from a DataFrame\n",
      "\n",
      "See the caveats in the documentation: http://pandas.pydata.org/pandas-docs/stable/indexing.html#indexing-view-versus-copy\n",
      "  after removing the cwd from sys.path.\n"
     ]
    }
   ],
   "source": [
    "import pandas as pd\n",
    "income = pd.read_csv('income.csv', thousands=',')\n",
    "income.columns = [['state','2016','2015','2014','2013','2012','2011','2010']]\n",
    "income['state'][8] = 'District of Columbia'\n",
    "income2014 = income[['state','2014']]\n",
    "income2014.columns = [['state','income']]\n",
    "income2015 = income[['state','2015']]\n",
    "income2015.columns = [['state','income']]\n",
    "income2016 = income[['state','2016']]\n",
    "income2016.columns = [['state','income']]"
   ]
  },
  {
   "cell_type": "markdown",
   "metadata": {},
   "source": [
    "### states"
   ]
  },
  {
   "cell_type": "code",
   "execution_count": 25,
   "metadata": {
    "collapsed": true
   },
   "outputs": [],
   "source": [
    "index2014 = pd.read_csv('2014state.csv')[['Geography','Estimate; TOTAL NUMBER OF RACES REPORTED - Total population','Estimate; SEX AND AGE - Total population - Male',\n",
    "     'Estimate; SEX AND AGE - Total population - Female','Estimate; SEX AND AGE - Median age (years)','Estimate; EDUCATIONAL ATTAINMENT - Bachelor\\'s degree or higher',\n",
    "      'Estimate; EMPLOYMENT STATUS - Population 16 years and over - In labor force','Estimate; HEALTH INSURANCE COVERAGE - Civilian noninstitutionalized population - No health insurance coverage',\n",
    "      'Estimate; POVERTY RATES FOR FAMILIES AND PEOPLE FOR WHOM POVERTY STATUS IS DETERMINED - All people']]\n",
    "index2014.columns = [['state','total_population','male','female','median_age','bachelor_or_higher','labor','no_insurance','poverty']]\n",
    "index2014['total_population'] = (index2014['total_population']-index2014['total_population'].min())/ index2014['total_population'].max()\n",
    "index2014['male'] = (index2014['male']-index2014['male'].min())/ index2014['male'].max()\n",
    "index2014['female'] = (index2014['female']-index2014['female'].min())/ index2014['female'].max()\n",
    "index2014['median_age'] = (index2014['median_age']-index2014['median_age'].min())/ index2014['median_age'].max()\n",
    "index2014['bachelor_or_higher'] = (index2014['bachelor_or_higher']-index2014['bachelor_or_higher'].min())/ index2014['bachelor_or_higher'].max()\n",
    "index2014['labor'] = (index2014['labor']-index2014['labor'].min())/ index2014['labor'].max()\n",
    "index2014['no_insurance'] = (index2014['no_insurance']-index2014['no_insurance'].min())/ index2014['no_insurance'].max()\n",
    "index2014['poverty'] = (index2014['poverty']-index2014['poverty'].min())/ index2014['poverty'].max()\n",
    "# index2014"
   ]
  },
  {
   "cell_type": "code",
   "execution_count": 24,
   "metadata": {
    "collapsed": true
   },
   "outputs": [],
   "source": [
    "index2015 = pd.read_csv('2015state.csv')[['Geography','Estimate; TOTAL NUMBER OF RACES REPORTED - Total population','Estimate; SEX AND AGE - Total population - Male',\n",
    "     'Estimate; SEX AND AGE - Total population - Female','Estimate; SEX AND AGE - Median age (years)','Estimate; EDUCATIONAL ATTAINMENT - Bachelor\\'s degree or higher',\n",
    "      'Estimate; EMPLOYMENT STATUS - Population 16 years and over - In labor force','Estimate; HEALTH INSURANCE COVERAGE - Civilian noninstitutionalized population - No health insurance coverage',\n",
    "      'Estimate; POVERTY RATES FOR FAMILIES AND PEOPLE FOR WHOM POVERTY STATUS IS DETERMINED - All people']]\n",
    "index2015.columns = [['state','total_population','male','female','median_age','bachelor_or_higher','labor','no_insurance','poverty']]\n",
    "index2015['total_population'] = (index2015['total_population']-index2015['total_population'].min())/ index2015['total_population'].max()\n",
    "index2015['male'] = (index2015['male']-index2015['male'].min())/ index2015['male'].max()\n",
    "index2015['female'] = (index2015['female']-index2015['female'].min())/ index2015['female'].max()\n",
    "index2015['median_age'] = (index2015['median_age']-index2015['median_age'].min())/ index2015['median_age'].max()\n",
    "index2015['bachelor_or_higher'] = (index2015['bachelor_or_higher']-index2015['bachelor_or_higher'].min())/ index2015['bachelor_or_higher'].max()\n",
    "index2015['labor'] = (index2015['labor']-index2015['labor'].min())/ index2015['labor'].max()\n",
    "index2015['no_insurance'] = (index2015['no_insurance']-index2015['no_insurance'].min())/ index2015['no_insurance'].max()\n",
    "index2015['poverty'] = (index2015['poverty']-index2015['poverty'].min())/ index2015['poverty'].max()\n",
    "# index2015"
   ]
  },
  {
   "cell_type": "code",
   "execution_count": 31,
   "metadata": {
    "collapsed": true
   },
   "outputs": [],
   "source": [
    "index2016 = pd.read_csv('2015state.csv')[['Geography','Estimate; TOTAL NUMBER OF RACES REPORTED - Total population','Estimate; SEX AND AGE - Total population - Male',\n",
    "     'Estimate; SEX AND AGE - Total population - Female','Estimate; SEX AND AGE - Median age (years)','Estimate; EDUCATIONAL ATTAINMENT - Bachelor\\'s degree or higher',\n",
    "      'Estimate; EMPLOYMENT STATUS - Population 16 years and over - In labor force','Estimate; HEALTH INSURANCE COVERAGE - Civilian noninstitutionalized population - No health insurance coverage',\n",
    "      'Estimate; POVERTY RATES FOR FAMILIES AND PEOPLE FOR WHOM POVERTY STATUS IS DETERMINED - All people']]\n",
    "index2016.columns = [['state','total_population','male','female','median_age','bachelor_or_higher','labor','no_insurance','poverty']]\n",
    "index2016['total_population'] = (index2016['total_population']-index2016['total_population'].min())/ index2016['total_population'].max()\n",
    "index2016['male'] = (index2016['male']-index2016['male'].min())/ index2016['male'].max()\n",
    "index2016['female'] = (index2016['female']-index2016['female'].min())/ index2016['female'].max()\n",
    "index2016['median_age'] = (index2016['median_age']-index2016['median_age'].min())/ index2016['median_age'].max()\n",
    "index2016['bachelor_or_higher'] = (index2016['bachelor_or_higher']-index2016['bachelor_or_higher'].min())/ index2016['bachelor_or_higher'].max()\n",
    "index2016['labor'] = (index2016['labor']-index2016['labor'].min())/ index2016['labor'].max()\n",
    "index2016['no_insurance'] = (index2016['no_insurance']-index2016['no_insurance'].min())/ index2016['no_insurance'].max()\n",
    "index2016['poverty'] = (index2016['poverty']-index2016['poverty'].min())/ index2016['poverty'].max()\n",
    "# index2016"
   ]
  },
  {
   "cell_type": "markdown",
   "metadata": {},
   "source": [
    "### training data 2015"
   ]
  },
  {
   "cell_type": "code",
   "execution_count": 42,
   "metadata": {
    "collapsed": true
   },
   "outputs": [],
   "source": [
    "trainset = pd.DataFrame(states['state'],columns = ['state'])\n",
    "trainset['count_change_percent'] = (states['2014count']-states['2013count'])/states['2013count']\n",
    "trainset['sum_change_percent'] = (states['2014sum']-states['2013sum'])/states['2013sum']\n",
    "trainset['median_change_percent'] = (states['2014median']-states['2013median'])/states['2013median']\n",
    "trainset = pd.merge(trainset,boa2014, on = ['state'], how = 'outer')\n",
    "trainset['boa_count'] = trainset['boa_count']/ trainset['boa_count'].max()\n",
    "trainset = pd.merge(trainset,citi2014, on = ['state'], how = 'outer')\n",
    "trainset['citi_count'] = trainset['citi_count']/ trainset['citi_count'].max()\n",
    "trainset = pd.merge(trainset,income2014, on = ['state'], how = 'outer')\n",
    "trainset['income'] = trainset['income']/ trainset['income'].max()\n",
    "trainset = pd.merge(trainset,index2014, on = ['state'], how = 'outer')\n",
    "trainset['label'] = states['2015label']\n",
    "trainset = trainset.fillna(0)\n",
    "# trainset"
   ]
  },
  {
   "cell_type": "markdown",
   "metadata": {},
   "source": [
    "### testing data 2016"
   ]
  },
  {
   "cell_type": "code",
   "execution_count": 43,
   "metadata": {
    "collapsed": true
   },
   "outputs": [],
   "source": [
    "testset = pd.DataFrame(states['state'],columns = ['state'])\n",
    "testset['count_change_percent'] = (states['2015count']-states['2014count'])/states['2014count']\n",
    "testset['sum_change_percent'] = (states['2015sum']-states['2014sum'])/states['2014sum']\n",
    "testset['median_change_percent'] = (states['2015median']-states['2014median'])/states['2014median']\n",
    "testset = pd.merge(testset,boa2015, on = ['state'], how = 'outer')\n",
    "testset['boa_count'] = testset['boa_count']/ testset['boa_count'].max()\n",
    "testset = pd.merge(testset,citi2015, on = ['state'], how = 'outer')\n",
    "testset['citi_count'] = testset['citi_count']/ testset['citi_count'].max()\n",
    "testset = pd.merge(testset,income2015, on = ['state'], how = 'outer')\n",
    "testset['income'] = testset['income']/ testset['income'].max()\n",
    "testset = pd.merge(testset,index2015, on = ['state'], how = 'outer')\n",
    "testset['label'] = states['2016label']\n",
    "testset = testset.fillna(0)\n",
    "# testset"
   ]
  },
  {
   "cell_type": "markdown",
   "metadata": {},
   "source": [
    "### predicting data 2017"
   ]
  },
  {
   "cell_type": "code",
   "execution_count": 87,
   "metadata": {},
   "outputs": [
    {
     "data": {
      "text/html": [
       "<div>\n",
       "<style>\n",
       "    .dataframe thead tr:only-child th {\n",
       "        text-align: right;\n",
       "    }\n",
       "\n",
       "    .dataframe thead th {\n",
       "        text-align: left;\n",
       "    }\n",
       "\n",
       "    .dataframe tbody tr th {\n",
       "        vertical-align: top;\n",
       "    }\n",
       "</style>\n",
       "<table border=\"1\" class=\"dataframe\">\n",
       "  <thead>\n",
       "    <tr style=\"text-align: right;\">\n",
       "      <th></th>\n",
       "      <th>state</th>\n",
       "      <th>count_change_percent</th>\n",
       "      <th>sum_change_percent</th>\n",
       "      <th>median_change_percent</th>\n",
       "      <th>boa_count</th>\n",
       "      <th>citi_count</th>\n",
       "      <th>income</th>\n",
       "      <th>total_population</th>\n",
       "      <th>male</th>\n",
       "      <th>female</th>\n",
       "      <th>median_age</th>\n",
       "      <th>bachelor_or_higher</th>\n",
       "      <th>labor</th>\n",
       "      <th>no_insurance</th>\n",
       "      <th>poverty</th>\n",
       "    </tr>\n",
       "  </thead>\n",
       "  <tbody>\n",
       "    <tr>\n",
       "      <th>0</th>\n",
       "      <td>Alabama</td>\n",
       "      <td>0.000000</td>\n",
       "      <td>0.000000</td>\n",
       "      <td>0.000000</td>\n",
       "      <td>0.000000</td>\n",
       "      <td>0.0</td>\n",
       "      <td>0.619211</td>\n",
       "      <td>0.109155</td>\n",
       "      <td>0.015209</td>\n",
       "      <td>0.080153</td>\n",
       "      <td>0.181614</td>\n",
       "      <td>0.081129</td>\n",
       "      <td>0.056738</td>\n",
       "      <td>0.426901</td>\n",
       "      <td>0.468182</td>\n",
       "    </tr>\n",
       "    <tr>\n",
       "      <th>1</th>\n",
       "      <td>Alaska</td>\n",
       "      <td>0.000000</td>\n",
       "      <td>0.000000</td>\n",
       "      <td>0.000000</td>\n",
       "      <td>0.000000</td>\n",
       "      <td>0.0</td>\n",
       "      <td>0.992958</td>\n",
       "      <td>0.003891</td>\n",
       "      <td>0.095057</td>\n",
       "      <td>0.000000</td>\n",
       "      <td>0.060538</td>\n",
       "      <td>0.178131</td>\n",
       "      <td>0.249645</td>\n",
       "      <td>0.707602</td>\n",
       "      <td>0.095455</td>\n",
       "    </tr>\n",
       "    <tr>\n",
       "      <th>2</th>\n",
       "      <td>Arizona</td>\n",
       "      <td>-0.041667</td>\n",
       "      <td>0.094295</td>\n",
       "      <td>0.186247</td>\n",
       "      <td>0.156388</td>\n",
       "      <td>0.0</td>\n",
       "      <td>0.748754</td>\n",
       "      <td>0.159458</td>\n",
       "      <td>0.038023</td>\n",
       "      <td>0.057252</td>\n",
       "      <td>0.152466</td>\n",
       "      <td>0.142857</td>\n",
       "      <td>0.083688</td>\n",
       "      <td>0.467836</td>\n",
       "      <td>0.418182</td>\n",
       "    </tr>\n",
       "    <tr>\n",
       "      <th>3</th>\n",
       "      <td>Arkansas</td>\n",
       "      <td>0.000000</td>\n",
       "      <td>0.000000</td>\n",
       "      <td>0.000000</td>\n",
       "      <td>0.024229</td>\n",
       "      <td>0.0</td>\n",
       "      <td>0.601980</td>\n",
       "      <td>0.061109</td>\n",
       "      <td>0.028517</td>\n",
       "      <td>0.066794</td>\n",
       "      <td>0.163677</td>\n",
       "      <td>0.038801</td>\n",
       "      <td>0.066667</td>\n",
       "      <td>0.391813</td>\n",
       "      <td>0.495455</td>\n",
       "    </tr>\n",
       "    <tr>\n",
       "      <th>4</th>\n",
       "      <td>California</td>\n",
       "      <td>-0.020548</td>\n",
       "      <td>0.151022</td>\n",
       "      <td>0.160145</td>\n",
       "      <td>1.000000</td>\n",
       "      <td>1.0</td>\n",
       "      <td>0.873813</td>\n",
       "      <td>0.985027</td>\n",
       "      <td>0.039924</td>\n",
       "      <td>0.055344</td>\n",
       "      <td>0.125561</td>\n",
       "      <td>0.223986</td>\n",
       "      <td>0.143262</td>\n",
       "      <td>0.339181</td>\n",
       "      <td>0.322727</td>\n",
       "    </tr>\n",
       "  </tbody>\n",
       "</table>\n",
       "</div>"
      ],
      "text/plain": [
       "        state  count_change_percent  sum_change_percent  \\\n",
       "0     Alabama              0.000000            0.000000   \n",
       "1      Alaska              0.000000            0.000000   \n",
       "2     Arizona             -0.041667            0.094295   \n",
       "3    Arkansas              0.000000            0.000000   \n",
       "4  California             -0.020548            0.151022   \n",
       "\n",
       "   median_change_percent  boa_count  citi_count    income  total_population  \\\n",
       "0               0.000000   0.000000         0.0  0.619211          0.109155   \n",
       "1               0.000000   0.000000         0.0  0.992958          0.003891   \n",
       "2               0.186247   0.156388         0.0  0.748754          0.159458   \n",
       "3               0.000000   0.024229         0.0  0.601980          0.061109   \n",
       "4               0.160145   1.000000         1.0  0.873813          0.985027   \n",
       "\n",
       "       male    female  median_age  bachelor_or_higher     labor  no_insurance  \\\n",
       "0  0.015209  0.080153    0.181614            0.081129  0.056738      0.426901   \n",
       "1  0.095057  0.000000    0.060538            0.178131  0.249645      0.707602   \n",
       "2  0.038023  0.057252    0.152466            0.142857  0.083688      0.467836   \n",
       "3  0.028517  0.066794    0.163677            0.038801  0.066667      0.391813   \n",
       "4  0.039924  0.055344    0.125561            0.223986  0.143262      0.339181   \n",
       "\n",
       "    poverty  \n",
       "0  0.468182  \n",
       "1  0.095455  \n",
       "2  0.418182  \n",
       "3  0.495455  \n",
       "4  0.322727  "
      ]
     },
     "execution_count": 87,
     "metadata": {},
     "output_type": "execute_result"
    }
   ],
   "source": [
    "prediset = pd.DataFrame(states['state'],columns = ['state'])\n",
    "prediset['count_change_percent'] = (states['2016count']-states['2015count'])/states['2015count']\n",
    "prediset['sum_change_percent'] = (states['2016sum']-states['2015sum'])/states['2015sum']\n",
    "prediset['median_change_percent'] = (states['2016median']-states['2015median'])/states['2015median']\n",
    "prediset = pd.merge(prediset,boa2016, on = ['state'], how = 'outer')\n",
    "prediset['boa_count'] = prediset['boa_count']/ prediset['boa_count'].max()\n",
    "prediset = pd.merge(prediset,citi2016, on = ['state'], how = 'outer')\n",
    "prediset['citi_count'] = prediset['citi_count']/ prediset['citi_count'].max()\n",
    "prediset = pd.merge(prediset,income2016, on = ['state'], how = 'outer')\n",
    "prediset['income'] = prediset['income']/ prediset['income'].max()\n",
    "prediset = pd.merge(prediset,index2016, on = ['state'], how = 'outer')\n",
    "prediset = prediset.fillna(0)\n",
    "prediset[:5]"
   ]
  },
  {
   "cell_type": "code",
   "execution_count": 70,
   "metadata": {
    "collapsed": true
   },
   "outputs": [],
   "source": [
    "# X = trainset[['count_change_percent','sum_change_percent','median_change_percent','boa_count','citi_count','income','']]\n",
    "# Y = trainset['label']\n",
    "# A = testset[['count_change_percent','sum_change_percent','median_change_percent','boa_count','citi_count','income']]\n",
    "# B = testset['label']\n",
    "# P = prediset[['count_change_percent','sum_change_percent','median_change_percent','boa_count','citi_count','income']]\n",
    "X = trainset[list(trainset)[1:-1]]\n",
    "Y = trainset[list(trainset)[-1]]\n",
    "A = testset[list(testset)[1:-1]]\n",
    "B = testset[list(testset)[-1]]\n",
    "P = prediset[list(prediset[1:])]\n"
   ]
  },
  {
   "cell_type": "markdown",
   "metadata": {},
   "source": [
    "### logistic regression"
   ]
  },
  {
   "cell_type": "code",
   "execution_count": 71,
   "metadata": {},
   "outputs": [
    {
     "data": {
      "text/plain": [
       "LogisticRegression(C=1.0, class_weight=None, dual=False, fit_intercept=True,\n",
       "          intercept_scaling=1, max_iter=100, multi_class='multinomial',\n",
       "          n_jobs=1, penalty='l2', random_state=None, solver='lbfgs',\n",
       "          tol=0.0001, verbose=0, warm_start=False)"
      ]
     },
     "execution_count": 71,
     "metadata": {},
     "output_type": "execute_result"
    }
   ],
   "source": [
    "from sklearn.linear_model import LogisticRegression\n",
    "logisticmodel = LogisticRegression( multi_class = 'multinomial', solver = 'lbfgs')\n",
    "logisticmodel.fit(X, Y)"
   ]
  },
  {
   "cell_type": "code",
   "execution_count": 72,
   "metadata": {},
   "outputs": [
    {
     "data": {
      "text/plain": [
       "array([ 0.,  0.,  0.,  0., -1.,  0.,  0.,  0., -1., -1.,  0.,  0.,  0.,\n",
       "        0.,  0.,  0.,  0.,  0.,  0.,  0.,  0., -1.,  0.,  0.,  0.,  0.,\n",
       "        0.,  0.,  0.,  0.,  0., -1.,  0.,  0.,  0.,  0.,  0.,  0.,  0.,\n",
       "        0.,  0.,  0., -1., -1.,  0.,  0.,  0.,  0.,  0.,  0.,  0.,  0.,\n",
       "        0.,  0.])"
      ]
     },
     "execution_count": 72,
     "metadata": {},
     "output_type": "execute_result"
    }
   ],
   "source": [
    "logisticmodel.predict(A)"
   ]
  },
  {
   "cell_type": "code",
   "execution_count": 73,
   "metadata": {
    "collapsed": true
   },
   "outputs": [],
   "source": [
    "def ratecalcu(result):\n",
    "    t = 0\n",
    "    f = 0\n",
    "    i = 0\n",
    "    for x in result:\n",
    "        if x == B[i]:\n",
    "            t = t + 1 \n",
    "        else: \n",
    "            f = f + 1\n",
    "    print('true rate =',t/(t+f),'false rate=',f/(t+f))"
   ]
  },
  {
   "cell_type": "code",
   "execution_count": 74,
   "metadata": {},
   "outputs": [
    {
     "name": "stdout",
     "output_type": "stream",
     "text": [
      "true rate = 0.8703703703703703 false rate= 0.12962962962962962\n"
     ]
    }
   ],
   "source": [
    "ratecalcu(logisticmodel.predict(A))"
   ]
  },
  {
   "cell_type": "code",
   "execution_count": 75,
   "metadata": {},
   "outputs": [
    {
     "data": {
      "text/plain": [
       "array([[ 5, 13,  0,  0],\n",
       "       [ 0, 31,  0,  0],\n",
       "       [ 0,  1,  0,  0],\n",
       "       [ 2,  2,  0,  0]])"
      ]
     },
     "execution_count": 75,
     "metadata": {},
     "output_type": "execute_result"
    }
   ],
   "source": [
    "from sklearn.metrics import confusion_matrix\n",
    "y_true = testset['label']\n",
    "y_pred = logisticmodel.predict(A)\n",
    "confusion_matrix(y_true, y_pred)"
   ]
  },
  {
   "cell_type": "markdown",
   "metadata": {},
   "source": [
    "### naive bayes "
   ]
  },
  {
   "cell_type": "code",
   "execution_count": 76,
   "metadata": {},
   "outputs": [
    {
     "data": {
      "text/plain": [
       "GaussianNB(priors=None)"
      ]
     },
     "execution_count": 76,
     "metadata": {},
     "output_type": "execute_result"
    }
   ],
   "source": [
    "from sklearn.naive_bayes import GaussianNB\n",
    "naivemodel = GaussianNB()\n",
    "naivemodel.fit(X, Y)"
   ]
  },
  {
   "cell_type": "code",
   "execution_count": 77,
   "metadata": {},
   "outputs": [
    {
     "data": {
      "text/plain": [
       "array([ 0.,  0.,  2.,  0., -1.,  2.,  2.,  0., -1.,  2.,  0.,  2., -1.,\n",
       "        2.,  0.,  0.,  2.,  2.,  0.,  0.,  0., -1.,  0.,  0.,  0.,  0.,\n",
       "        0.,  2.,  0.,  2.,  0., -1.,  0.,  0.,  2.,  2.,  2.,  0.,  0.,\n",
       "        0.,  0.,  0., -1., -1.,  0.,  0.,  2.,  2.,  2.,  0.,  0.,  0.,\n",
       "        0.,  0.])"
      ]
     },
     "execution_count": 77,
     "metadata": {},
     "output_type": "execute_result"
    }
   ],
   "source": [
    "naivemodel.predict(A)"
   ]
  },
  {
   "cell_type": "code",
   "execution_count": 78,
   "metadata": {},
   "outputs": [
    {
     "name": "stdout",
     "output_type": "stream",
     "text": [
      "true rate = 0.5740740740740741 false rate= 0.42592592592592593\n"
     ]
    }
   ],
   "source": [
    "ratecalcu(naivemodel.predict(A))"
   ]
  },
  {
   "cell_type": "code",
   "execution_count": 79,
   "metadata": {},
   "outputs": [
    {
     "data": {
      "text/plain": [
       "array([[ 6,  0,  0, 12],\n",
       "       [ 0, 31,  0,  0],\n",
       "       [ 0,  0,  0,  1],\n",
       "       [ 1,  0,  0,  3]])"
      ]
     },
     "execution_count": 79,
     "metadata": {},
     "output_type": "execute_result"
    }
   ],
   "source": [
    "from sklearn.metrics import confusion_matrix\n",
    "y_true = testset['label']\n",
    "y_pred = naivemodel.predict(A)\n",
    "confusion_matrix(y_true, y_pred)"
   ]
  },
  {
   "cell_type": "markdown",
   "metadata": {},
   "source": [
    "### KNN"
   ]
  },
  {
   "cell_type": "code",
   "execution_count": 80,
   "metadata": {},
   "outputs": [
    {
     "data": {
      "text/plain": [
       "KNeighborsClassifier(algorithm='auto', leaf_size=30, metric='minkowski',\n",
       "           metric_params=None, n_jobs=1, n_neighbors=5, p=2,\n",
       "           weights='uniform')"
      ]
     },
     "execution_count": 80,
     "metadata": {},
     "output_type": "execute_result"
    }
   ],
   "source": [
    "from sklearn.neighbors import KNeighborsClassifier\n",
    "kNNmodel = KNeighborsClassifier(n_neighbors=5)\n",
    "kNNmodel.fit(X, Y) "
   ]
  },
  {
   "cell_type": "code",
   "execution_count": 81,
   "metadata": {},
   "outputs": [
    {
     "data": {
      "text/plain": [
       "array([ 0.,  0.,  0.,  0., -1., -1.,  0.,  0., -1., -1.,  0., -1., -1.,\n",
       "       -1.,  0.,  0., -1.,  0.,  0.,  0.,  0., -1.,  0.,  0.,  0.,  0.,\n",
       "        0., -1.,  0.,  0.,  0., -1.,  0.,  0., -1., -1., -1., -1.,  0.,\n",
       "        0.,  0.,  0., -1., -1.,  0.,  0.,  0.,  0.,  0.,  0.,  0.,  0.,\n",
       "        0.,  0.])"
      ]
     },
     "execution_count": 81,
     "metadata": {},
     "output_type": "execute_result"
    }
   ],
   "source": [
    "kNNmodel.predict(A)"
   ]
  },
  {
   "cell_type": "code",
   "execution_count": 82,
   "metadata": {},
   "outputs": [
    {
     "name": "stdout",
     "output_type": "stream",
     "text": [
      "true rate = 0.6851851851851852 false rate= 0.3148148148148148\n"
     ]
    }
   ],
   "source": [
    "ratecalcu(kNNmodel.predict(A))"
   ]
  },
  {
   "cell_type": "code",
   "execution_count": 83,
   "metadata": {},
   "outputs": [
    {
     "data": {
      "text/plain": [
       "array([[12,  6,  0,  0],\n",
       "       [ 1, 30,  0,  0],\n",
       "       [ 1,  0,  0,  0],\n",
       "       [ 3,  1,  0,  0]])"
      ]
     },
     "execution_count": 83,
     "metadata": {},
     "output_type": "execute_result"
    }
   ],
   "source": [
    "from sklearn.metrics import confusion_matrix\n",
    "y_true = testset['label']\n",
    "y_pred = kNNmodel.predict(A)\n",
    "confusion_matrix(y_true, y_pred)"
   ]
  },
  {
   "cell_type": "markdown",
   "metadata": {},
   "source": [
    "### decision tree"
   ]
  },
  {
   "cell_type": "code",
   "execution_count": 84,
   "metadata": {},
   "outputs": [
    {
     "data": {
      "text/plain": [
       "DecisionTreeClassifier(class_weight=None, criterion='gini', max_depth=None,\n",
       "            max_features=None, max_leaf_nodes=None,\n",
       "            min_impurity_split=1e-07, min_samples_leaf=1,\n",
       "            min_samples_split=2, min_weight_fraction_leaf=0.0,\n",
       "            presort=False, random_state=None, splitter='best')"
      ]
     },
     "execution_count": 84,
     "metadata": {},
     "output_type": "execute_result"
    }
   ],
   "source": [
    "from sklearn import tree\n",
    "treemodel = tree.DecisionTreeClassifier()\n",
    "treemodel.fit(X, Y)"
   ]
  },
  {
   "cell_type": "code",
   "execution_count": 88,
   "metadata": {},
   "outputs": [
    {
     "data": {
      "image/svg+xml": [
       "<?xml version=\"1.0\" encoding=\"UTF-8\" standalone=\"no\"?>\n",
       "<!DOCTYPE svg PUBLIC \"-//W3C//DTD SVG 1.1//EN\"\n",
       " \"http://www.w3.org/Graphics/SVG/1.1/DTD/svg11.dtd\">\n",
       "<!-- Generated by graphviz version 2.40.1 (20161225.0304)\n",
       " -->\n",
       "<!-- Title: Tree Pages: 1 -->\n",
       "<svg width=\"838pt\" height=\"756pt\"\n",
       " viewBox=\"0.00 0.00 838.46 756.00\" xmlns=\"http://www.w3.org/2000/svg\" xmlns:xlink=\"http://www.w3.org/1999/xlink\">\n",
       "<g id=\"graph0\" class=\"graph\" transform=\"scale(1 1) rotate(0) translate(4 752)\">\n",
       "<title>Tree</title>\n",
       "<polygon fill=\"#ffffff\" stroke=\"transparent\" points=\"-4,4 -4,-752 834.4648,-752 834.4648,4 -4,4\"/>\n",
       "<!-- 0 -->\n",
       "<g id=\"node1\" class=\"node\">\n",
       "<title>0</title>\n",
       "<path fill=\"#47e539\" fill-opacity=\"0.396078\" stroke=\"#000000\" d=\"M561.0218,-748C561.0218,-748 356.2223,-748 356.2223,-748 350.2223,-748 344.2223,-742 344.2223,-736 344.2223,-736 344.2223,-682 344.2223,-682 344.2223,-676 350.2223,-670 356.2223,-670 356.2223,-670 561.0218,-670 561.0218,-670 567.0218,-670 573.0218,-676 573.0218,-682 573.0218,-682 573.0218,-736 573.0218,-736 573.0218,-742 567.0218,-748 561.0218,-748\"/>\n",
       "<text text-anchor=\"start\" x=\"352.4224\" y=\"-732.8\" font-family=\"Helvetica,sans-Serif\" font-size=\"14.00\" fill=\"#000000\">median_change_percent ≤ 0.0088</text>\n",
       "<text text-anchor=\"start\" x=\"426.124\" y=\"-718.8\" font-family=\"Helvetica,sans-Serif\" font-size=\"14.00\" fill=\"#000000\">gini = 0.57</text>\n",
       "<text text-anchor=\"start\" x=\"416.793\" y=\"-704.8\" font-family=\"Helvetica,sans-Serif\" font-size=\"14.00\" fill=\"#000000\">samples = 54</text>\n",
       "<text text-anchor=\"start\" x=\"394.9932\" y=\"-690.8\" font-family=\"Helvetica,sans-Serif\" font-size=\"14.00\" fill=\"#000000\">value = [16, 31, 1, 6]</text>\n",
       "<text text-anchor=\"start\" x=\"426.9102\" y=\"-676.8\" font-family=\"Helvetica,sans-Serif\" font-size=\"14.00\" fill=\"#000000\">class = no</text>\n",
       "</g>\n",
       "<!-- 1 -->\n",
       "<g id=\"node2\" class=\"node\">\n",
       "<title>1</title>\n",
       "<path fill=\"#47e539\" stroke=\"#000000\" d=\"M434.5946,-627C434.5946,-627 322.6496,-627 322.6496,-627 316.6496,-627 310.6496,-621 310.6496,-615 310.6496,-615 310.6496,-575 310.6496,-575 310.6496,-569 316.6496,-563 322.6496,-563 322.6496,-563 434.5946,-563 434.5946,-563 440.5946,-563 446.5946,-569 446.5946,-575 446.5946,-575 446.5946,-615 446.5946,-615 446.5946,-621 440.5946,-627 434.5946,-627\"/>\n",
       "<text text-anchor=\"start\" x=\"350.0171\" y=\"-611.8\" font-family=\"Helvetica,sans-Serif\" font-size=\"14.00\" fill=\"#000000\">gini = 0.0</text>\n",
       "<text text-anchor=\"start\" x=\"336.793\" y=\"-597.8\" font-family=\"Helvetica,sans-Serif\" font-size=\"14.00\" fill=\"#000000\">samples = 31</text>\n",
       "<text text-anchor=\"start\" x=\"318.8862\" y=\"-583.8\" font-family=\"Helvetica,sans-Serif\" font-size=\"14.00\" fill=\"#000000\">value = [0, 31, 0, 0]</text>\n",
       "<text text-anchor=\"start\" x=\"346.9102\" y=\"-569.8\" font-family=\"Helvetica,sans-Serif\" font-size=\"14.00\" fill=\"#000000\">class = no</text>\n",
       "</g>\n",
       "<!-- 0&#45;&gt;1 -->\n",
       "<g id=\"edge1\" class=\"edge\">\n",
       "<title>0&#45;&gt;1</title>\n",
       "<path fill=\"none\" stroke=\"#000000\" d=\"M431.0906,-669.7677C423.311,-658.6817 414.8322,-646.5994 407.0036,-635.4436\"/>\n",
       "<polygon fill=\"#000000\" stroke=\"#000000\" points=\"409.7753,-633.3003 401.1661,-627.1252 404.0454,-637.3213 409.7753,-633.3003\"/>\n",
       "<text text-anchor=\"middle\" x=\"396.8504\" y=\"-647.5499\" font-family=\"Helvetica,sans-Serif\" font-size=\"14.00\" fill=\"#000000\">True</text>\n",
       "</g>\n",
       "<!-- 2 -->\n",
       "<g id=\"node3\" class=\"node\">\n",
       "<title>2</title>\n",
       "<path fill=\"#e58139\" fill-opacity=\"0.588235\" stroke=\"#000000\" d=\"M603.4672,-634C603.4672,-634 475.777,-634 475.777,-634 469.777,-634 463.777,-628 463.777,-622 463.777,-622 463.777,-568 463.777,-568 463.777,-562 469.777,-556 475.777,-556 475.777,-556 603.4672,-556 603.4672,-556 609.4672,-556 615.4672,-562 615.4672,-568 615.4672,-568 615.4672,-622 615.4672,-622 615.4672,-628 609.4672,-634 603.4672,-634\"/>\n",
       "<text text-anchor=\"start\" x=\"471.9497\" y=\"-618.8\" font-family=\"Helvetica,sans-Serif\" font-size=\"14.00\" fill=\"#000000\">median_age ≤ 0.2166</text>\n",
       "<text text-anchor=\"start\" x=\"499.3379\" y=\"-604.8\" font-family=\"Helvetica,sans-Serif\" font-size=\"14.00\" fill=\"#000000\">gini = 0.4461</text>\n",
       "<text text-anchor=\"start\" x=\"497.793\" y=\"-590.8\" font-family=\"Helvetica,sans-Serif\" font-size=\"14.00\" fill=\"#000000\">samples = 23</text>\n",
       "<text text-anchor=\"start\" x=\"479.8862\" y=\"-576.8\" font-family=\"Helvetica,sans-Serif\" font-size=\"14.00\" fill=\"#000000\">value = [16, 0, 1, 6]</text>\n",
       "<text text-anchor=\"start\" x=\"499.355\" y=\"-562.8\" font-family=\"Helvetica,sans-Serif\" font-size=\"14.00\" fill=\"#000000\">class = close</text>\n",
       "</g>\n",
       "<!-- 0&#45;&gt;2 -->\n",
       "<g id=\"edge2\" class=\"edge\">\n",
       "<title>0&#45;&gt;2</title>\n",
       "<path fill=\"none\" stroke=\"#000000\" d=\"M486.4977,-669.7677C492.7342,-660.9903 499.4146,-651.5883 505.8606,-642.5161\"/>\n",
       "<polygon fill=\"#000000\" stroke=\"#000000\" points=\"508.7561,-644.4837 511.6951,-634.3046 503.0498,-640.4292 508.7561,-644.4837\"/>\n",
       "<text text-anchor=\"middle\" x=\"515.8665\" y=\"-654.7542\" font-family=\"Helvetica,sans-Serif\" font-size=\"14.00\" fill=\"#000000\">False</text>\n",
       "</g>\n",
       "<!-- 3 -->\n",
       "<g id=\"node4\" class=\"node\">\n",
       "<title>3</title>\n",
       "<path fill=\"#e58139\" fill-opacity=\"0.749020\" stroke=\"#000000\" d=\"M518.9672,-520C518.9672,-520 384.277,-520 384.277,-520 378.277,-520 372.277,-514 372.277,-508 372.277,-508 372.277,-454 372.277,-454 372.277,-448 378.277,-442 384.277,-442 384.277,-442 518.9672,-442 518.9672,-442 524.9672,-442 530.9672,-448 530.9672,-454 530.9672,-454 530.9672,-508 530.9672,-508 530.9672,-514 524.9672,-520 518.9672,-520\"/>\n",
       "<text text-anchor=\"start\" x=\"380.4497\" y=\"-504.8\" font-family=\"Helvetica,sans-Serif\" font-size=\"14.00\" fill=\"#000000\">no_insurance ≤ 0.6283</text>\n",
       "<text text-anchor=\"start\" x=\"419.124\" y=\"-490.8\" font-family=\"Helvetica,sans-Serif\" font-size=\"14.00\" fill=\"#000000\">gini = 0.32</text>\n",
       "<text text-anchor=\"start\" x=\"409.793\" y=\"-476.8\" font-family=\"Helvetica,sans-Serif\" font-size=\"14.00\" fill=\"#000000\">samples = 20</text>\n",
       "<text text-anchor=\"start\" x=\"391.8862\" y=\"-462.8\" font-family=\"Helvetica,sans-Serif\" font-size=\"14.00\" fill=\"#000000\">value = [16, 0, 0, 4]</text>\n",
       "<text text-anchor=\"start\" x=\"411.355\" y=\"-448.8\" font-family=\"Helvetica,sans-Serif\" font-size=\"14.00\" fill=\"#000000\">class = close</text>\n",
       "</g>\n",
       "<!-- 2&#45;&gt;3 -->\n",
       "<g id=\"edge3\" class=\"edge\">\n",
       "<title>2&#45;&gt;3</title>\n",
       "<path fill=\"none\" stroke=\"#000000\" d=\"M509.3375,-555.7677C502.4928,-546.9007 495.1561,-537.3964 488.0869,-528.2385\"/>\n",
       "<polygon fill=\"#000000\" stroke=\"#000000\" points=\"490.8436,-526.0819 481.9625,-520.3046 485.3025,-530.3593 490.8436,-526.0819\"/>\n",
       "</g>\n",
       "<!-- 14 -->\n",
       "<g id=\"node15\" class=\"node\">\n",
       "<title>14</title>\n",
       "<path fill=\"#d739e5\" fill-opacity=\"0.498039\" stroke=\"#000000\" d=\"M694.9672,-520C694.9672,-520 560.277,-520 560.277,-520 554.277,-520 548.277,-514 548.277,-508 548.277,-508 548.277,-454 548.277,-454 548.277,-448 554.277,-442 560.277,-442 560.277,-442 694.9672,-442 694.9672,-442 700.9672,-442 706.9672,-448 706.9672,-454 706.9672,-454 706.9672,-508 706.9672,-508 706.9672,-514 700.9672,-520 694.9672,-520\"/>\n",
       "<text text-anchor=\"start\" x=\"556.4497\" y=\"-504.8\" font-family=\"Helvetica,sans-Serif\" font-size=\"14.00\" fill=\"#000000\">no_insurance ≤ 0.4869</text>\n",
       "<text text-anchor=\"start\" x=\"587.3379\" y=\"-490.8\" font-family=\"Helvetica,sans-Serif\" font-size=\"14.00\" fill=\"#000000\">gini = 0.4444</text>\n",
       "<text text-anchor=\"start\" x=\"589.686\" y=\"-476.8\" font-family=\"Helvetica,sans-Serif\" font-size=\"14.00\" fill=\"#000000\">samples = 3</text>\n",
       "<text text-anchor=\"start\" x=\"571.7793\" y=\"-462.8\" font-family=\"Helvetica,sans-Serif\" font-size=\"14.00\" fill=\"#000000\">value = [0, 0, 1, 2]</text>\n",
       "<text text-anchor=\"start\" x=\"571\" y=\"-448.8\" font-family=\"Helvetica,sans-Serif\" font-size=\"14.00\" fill=\"#000000\">class = no change</text>\n",
       "</g>\n",
       "<!-- 2&#45;&gt;14 -->\n",
       "<g id=\"edge14\" class=\"edge\">\n",
       "<title>2&#45;&gt;14</title>\n",
       "<path fill=\"none\" stroke=\"#000000\" d=\"M569.9067,-555.7677C576.7514,-546.9007 584.088,-537.3964 591.1572,-528.2385\"/>\n",
       "<polygon fill=\"#000000\" stroke=\"#000000\" points=\"593.9417,-530.3593 597.2816,-520.3046 588.4005,-526.0819 593.9417,-530.3593\"/>\n",
       "</g>\n",
       "<!-- 4 -->\n",
       "<g id=\"node5\" class=\"node\">\n",
       "<title>4</title>\n",
       "<path fill=\"#e58139\" fill-opacity=\"0.866667\" stroke=\"#000000\" d=\"M336.2667,-406C336.2667,-406 186.9775,-406 186.9775,-406 180.9775,-406 174.9775,-400 174.9775,-394 174.9775,-394 174.9775,-340 174.9775,-340 174.9775,-334 180.9775,-328 186.9775,-328 186.9775,-328 336.2667,-328 336.2667,-328 342.2667,-328 348.2667,-334 348.2667,-340 348.2667,-340 348.2667,-394 348.2667,-394 348.2667,-400 342.2667,-406 336.2667,-406\"/>\n",
       "<text text-anchor=\"start\" x=\"183.0498\" y=\"-390.8\" font-family=\"Helvetica,sans-Serif\" font-size=\"14.00\" fill=\"#000000\">total_population ≤ 0.0426</text>\n",
       "<text text-anchor=\"start\" x=\"221.3379\" y=\"-376.8\" font-family=\"Helvetica,sans-Serif\" font-size=\"14.00\" fill=\"#000000\">gini = 0.2076</text>\n",
       "<text text-anchor=\"start\" x=\"219.793\" y=\"-362.8\" font-family=\"Helvetica,sans-Serif\" font-size=\"14.00\" fill=\"#000000\">samples = 17</text>\n",
       "<text text-anchor=\"start\" x=\"201.8862\" y=\"-348.8\" font-family=\"Helvetica,sans-Serif\" font-size=\"14.00\" fill=\"#000000\">value = [15, 0, 0, 2]</text>\n",
       "<text text-anchor=\"start\" x=\"221.355\" y=\"-334.8\" font-family=\"Helvetica,sans-Serif\" font-size=\"14.00\" fill=\"#000000\">class = close</text>\n",
       "</g>\n",
       "<!-- 3&#45;&gt;4 -->\n",
       "<g id=\"edge4\" class=\"edge\">\n",
       "<title>3&#45;&gt;4</title>\n",
       "<path fill=\"none\" stroke=\"#000000\" d=\"M386.5007,-441.9272C370.0346,-432.0475 352.2351,-421.3678 335.3765,-411.2527\"/>\n",
       "<polygon fill=\"#000000\" stroke=\"#000000\" points=\"337.0341,-408.1656 326.6584,-406.0218 333.4326,-414.168 337.0341,-408.1656\"/>\n",
       "</g>\n",
       "<!-- 11 -->\n",
       "<g id=\"node12\" class=\"node\">\n",
       "<title>11</title>\n",
       "<path fill=\"#d739e5\" fill-opacity=\"0.498039\" stroke=\"#000000\" d=\"M513.5505,-406C513.5505,-406 403.6936,-406 403.6936,-406 397.6936,-406 391.6936,-400 391.6936,-394 391.6936,-394 391.6936,-340 391.6936,-340 391.6936,-334 397.6936,-328 403.6936,-328 403.6936,-328 513.5505,-328 513.5505,-328 519.5505,-328 525.5505,-334 525.5505,-340 525.5505,-340 525.5505,-394 525.5505,-394 525.5505,-400 519.5505,-406 513.5505,-406\"/>\n",
       "<text text-anchor=\"start\" x=\"399.9082\" y=\"-390.8\" font-family=\"Helvetica,sans-Serif\" font-size=\"14.00\" fill=\"#000000\">citi_count ≤ 0.0577</text>\n",
       "<text text-anchor=\"start\" x=\"418.3379\" y=\"-376.8\" font-family=\"Helvetica,sans-Serif\" font-size=\"14.00\" fill=\"#000000\">gini = 0.4444</text>\n",
       "<text text-anchor=\"start\" x=\"420.686\" y=\"-362.8\" font-family=\"Helvetica,sans-Serif\" font-size=\"14.00\" fill=\"#000000\">samples = 3</text>\n",
       "<text text-anchor=\"start\" x=\"402.7793\" y=\"-348.8\" font-family=\"Helvetica,sans-Serif\" font-size=\"14.00\" fill=\"#000000\">value = [1, 0, 0, 2]</text>\n",
       "<text text-anchor=\"start\" x=\"402\" y=\"-334.8\" font-family=\"Helvetica,sans-Serif\" font-size=\"14.00\" fill=\"#000000\">class = no change</text>\n",
       "</g>\n",
       "<!-- 3&#45;&gt;11 -->\n",
       "<g id=\"edge11\" class=\"edge\">\n",
       "<title>3&#45;&gt;11</title>\n",
       "<path fill=\"none\" stroke=\"#000000\" d=\"M454.0311,-441.7677C454.5315,-433.6172 455.0651,-424.9283 455.5848,-416.4649\"/>\n",
       "<polygon fill=\"#000000\" stroke=\"#000000\" points=\"459.0891,-416.5004 456.2086,-406.3046 452.1022,-416.0713 459.0891,-416.5004\"/>\n",
       "</g>\n",
       "<!-- 5 -->\n",
       "<g id=\"node6\" class=\"node\">\n",
       "<title>5</title>\n",
       "<path fill=\"#d739e5\" stroke=\"#000000\" d=\"M117.3664,-285C117.3664,-285 11.8777,-285 11.8777,-285 5.8777,-285 -.1223,-279 -.1223,-273 -.1223,-273 -.1223,-233 -.1223,-233 -.1223,-227 5.8777,-221 11.8777,-221 11.8777,-221 117.3664,-221 117.3664,-221 123.3664,-221 129.3664,-227 129.3664,-233 129.3664,-233 129.3664,-273 129.3664,-273 129.3664,-279 123.3664,-285 117.3664,-285\"/>\n",
       "<text text-anchor=\"start\" x=\"36.0171\" y=\"-269.8\" font-family=\"Helvetica,sans-Serif\" font-size=\"14.00\" fill=\"#000000\">gini = 0.0</text>\n",
       "<text text-anchor=\"start\" x=\"26.686\" y=\"-255.8\" font-family=\"Helvetica,sans-Serif\" font-size=\"14.00\" fill=\"#000000\">samples = 1</text>\n",
       "<text text-anchor=\"start\" x=\"8.7793\" y=\"-241.8\" font-family=\"Helvetica,sans-Serif\" font-size=\"14.00\" fill=\"#000000\">value = [0, 0, 0, 1]</text>\n",
       "<text text-anchor=\"start\" x=\"8\" y=\"-227.8\" font-family=\"Helvetica,sans-Serif\" font-size=\"14.00\" fill=\"#000000\">class = no change</text>\n",
       "</g>\n",
       "<!-- 4&#45;&gt;5 -->\n",
       "<g id=\"edge5\" class=\"edge\">\n",
       "<title>4&#45;&gt;5</title>\n",
       "<path fill=\"none\" stroke=\"#000000\" d=\"M194.1015,-327.9272C172.9528,-315.6889 149.6829,-302.223 128.7736,-290.1232\"/>\n",
       "<polygon fill=\"#000000\" stroke=\"#000000\" points=\"130.3784,-287.0081 119.97,-285.0288 126.8723,-293.0668 130.3784,-287.0081\"/>\n",
       "</g>\n",
       "<!-- 6 -->\n",
       "<g id=\"node7\" class=\"node\">\n",
       "<title>6</title>\n",
       "<path fill=\"#e58139\" fill-opacity=\"0.933333\" stroke=\"#000000\" d=\"M364.0218,-292C364.0218,-292 159.2223,-292 159.2223,-292 153.2223,-292 147.2223,-286 147.2223,-280 147.2223,-280 147.2223,-226 147.2223,-226 147.2223,-220 153.2223,-214 159.2223,-214 159.2223,-214 364.0218,-214 364.0218,-214 370.0218,-214 376.0218,-220 376.0218,-226 376.0218,-226 376.0218,-280 376.0218,-280 376.0218,-286 370.0218,-292 364.0218,-292\"/>\n",
       "<text text-anchor=\"start\" x=\"155.4224\" y=\"-276.8\" font-family=\"Helvetica,sans-Serif\" font-size=\"14.00\" fill=\"#000000\">median_change_percent ≤ 0.0495</text>\n",
       "<text text-anchor=\"start\" x=\"221.854\" y=\"-262.8\" font-family=\"Helvetica,sans-Serif\" font-size=\"14.00\" fill=\"#000000\">gini = 0.1172</text>\n",
       "<text text-anchor=\"start\" x=\"219.793\" y=\"-248.8\" font-family=\"Helvetica,sans-Serif\" font-size=\"14.00\" fill=\"#000000\">samples = 16</text>\n",
       "<text text-anchor=\"start\" x=\"201.8862\" y=\"-234.8\" font-family=\"Helvetica,sans-Serif\" font-size=\"14.00\" fill=\"#000000\">value = [15, 0, 0, 1]</text>\n",
       "<text text-anchor=\"start\" x=\"221.355\" y=\"-220.8\" font-family=\"Helvetica,sans-Serif\" font-size=\"14.00\" fill=\"#000000\">class = close</text>\n",
       "</g>\n",
       "<!-- 4&#45;&gt;6 -->\n",
       "<g id=\"edge6\" class=\"edge\">\n",
       "<title>4&#45;&gt;6</title>\n",
       "<path fill=\"none\" stroke=\"#000000\" d=\"M261.6221,-327.7677C261.6221,-319.6172 261.6221,-310.9283 261.6221,-302.4649\"/>\n",
       "<polygon fill=\"#000000\" stroke=\"#000000\" points=\"265.1222,-302.3046 261.6221,-292.3046 258.1222,-302.3047 265.1222,-302.3046\"/>\n",
       "</g>\n",
       "<!-- 7 -->\n",
       "<g id=\"node8\" class=\"node\">\n",
       "<title>7</title>\n",
       "<path fill=\"transparent\" stroke=\"#000000\" d=\"M238.308,-178C238.308,-178 134.9361,-178 134.9361,-178 128.9361,-178 122.9361,-172 122.9361,-166 122.9361,-166 122.9361,-112 122.9361,-112 122.9361,-106 128.9361,-100 134.9361,-100 134.9361,-100 238.308,-100 238.308,-100 244.308,-100 250.308,-106 250.308,-112 250.308,-112 250.308,-166 250.308,-166 250.308,-172 244.308,-178 238.308,-178\"/>\n",
       "<text text-anchor=\"start\" x=\"134.915\" y=\"-162.8\" font-family=\"Helvetica,sans-Serif\" font-size=\"14.00\" fill=\"#000000\">income ≤ 0.7848</text>\n",
       "<text text-anchor=\"start\" x=\"158.0171\" y=\"-148.8\" font-family=\"Helvetica,sans-Serif\" font-size=\"14.00\" fill=\"#000000\">gini = 0.5</text>\n",
       "<text text-anchor=\"start\" x=\"148.686\" y=\"-134.8\" font-family=\"Helvetica,sans-Serif\" font-size=\"14.00\" fill=\"#000000\">samples = 2</text>\n",
       "<text text-anchor=\"start\" x=\"130.7793\" y=\"-120.8\" font-family=\"Helvetica,sans-Serif\" font-size=\"14.00\" fill=\"#000000\">value = [1, 0, 0, 1]</text>\n",
       "<text text-anchor=\"start\" x=\"146.355\" y=\"-106.8\" font-family=\"Helvetica,sans-Serif\" font-size=\"14.00\" fill=\"#000000\">class = close</text>\n",
       "</g>\n",
       "<!-- 6&#45;&gt;7 -->\n",
       "<g id=\"edge7\" class=\"edge\">\n",
       "<title>6&#45;&gt;7</title>\n",
       "<path fill=\"none\" stroke=\"#000000\" d=\"M235.8113,-213.7677C230.0956,-205.0798 223.9774,-195.7801 218.0655,-186.794\"/>\n",
       "<polygon fill=\"#000000\" stroke=\"#000000\" points=\"220.9006,-184.7352 212.4804,-178.3046 215.0526,-188.5825 220.9006,-184.7352\"/>\n",
       "</g>\n",
       "<!-- 10 -->\n",
       "<g id=\"node11\" class=\"node\">\n",
       "<title>10</title>\n",
       "<path fill=\"#e58139\" stroke=\"#000000\" d=\"M392.5946,-171C392.5946,-171 280.6496,-171 280.6496,-171 274.6496,-171 268.6496,-165 268.6496,-159 268.6496,-159 268.6496,-119 268.6496,-119 268.6496,-113 274.6496,-107 280.6496,-107 280.6496,-107 392.5946,-107 392.5946,-107 398.5946,-107 404.5946,-113 404.5946,-119 404.5946,-119 404.5946,-159 404.5946,-159 404.5946,-165 398.5946,-171 392.5946,-171\"/>\n",
       "<text text-anchor=\"start\" x=\"308.0171\" y=\"-155.8\" font-family=\"Helvetica,sans-Serif\" font-size=\"14.00\" fill=\"#000000\">gini = 0.0</text>\n",
       "<text text-anchor=\"start\" x=\"294.793\" y=\"-141.8\" font-family=\"Helvetica,sans-Serif\" font-size=\"14.00\" fill=\"#000000\">samples = 14</text>\n",
       "<text text-anchor=\"start\" x=\"276.8862\" y=\"-127.8\" font-family=\"Helvetica,sans-Serif\" font-size=\"14.00\" fill=\"#000000\">value = [14, 0, 0, 0]</text>\n",
       "<text text-anchor=\"start\" x=\"296.355\" y=\"-113.8\" font-family=\"Helvetica,sans-Serif\" font-size=\"14.00\" fill=\"#000000\">class = close</text>\n",
       "</g>\n",
       "<!-- 6&#45;&gt;10 -->\n",
       "<g id=\"edge10\" class=\"edge\">\n",
       "<title>6&#45;&gt;10</title>\n",
       "<path fill=\"none\" stroke=\"#000000\" d=\"M287.4328,-213.7677C294.6547,-202.7904 302.5193,-190.8362 309.7984,-179.772\"/>\n",
       "<polygon fill=\"#000000\" stroke=\"#000000\" points=\"312.9148,-181.4031 315.4871,-171.1252 307.0669,-177.5557 312.9148,-181.4031\"/>\n",
       "</g>\n",
       "<!-- 8 -->\n",
       "<g id=\"node9\" class=\"node\">\n",
       "<title>8</title>\n",
       "<path fill=\"#d739e5\" stroke=\"#000000\" d=\"M166.3664,-64C166.3664,-64 60.8777,-64 60.8777,-64 54.8777,-64 48.8777,-58 48.8777,-52 48.8777,-52 48.8777,-12 48.8777,-12 48.8777,-6 54.8777,0 60.8777,0 60.8777,0 166.3664,0 166.3664,0 172.3664,0 178.3664,-6 178.3664,-12 178.3664,-12 178.3664,-52 178.3664,-52 178.3664,-58 172.3664,-64 166.3664,-64\"/>\n",
       "<text text-anchor=\"start\" x=\"85.0171\" y=\"-48.8\" font-family=\"Helvetica,sans-Serif\" font-size=\"14.00\" fill=\"#000000\">gini = 0.0</text>\n",
       "<text text-anchor=\"start\" x=\"75.686\" y=\"-34.8\" font-family=\"Helvetica,sans-Serif\" font-size=\"14.00\" fill=\"#000000\">samples = 1</text>\n",
       "<text text-anchor=\"start\" x=\"57.7793\" y=\"-20.8\" font-family=\"Helvetica,sans-Serif\" font-size=\"14.00\" fill=\"#000000\">value = [0, 0, 0, 1]</text>\n",
       "<text text-anchor=\"start\" x=\"57\" y=\"-6.8\" font-family=\"Helvetica,sans-Serif\" font-size=\"14.00\" fill=\"#000000\">class = no change</text>\n",
       "</g>\n",
       "<!-- 7&#45;&gt;8 -->\n",
       "<g id=\"edge8\" class=\"edge\">\n",
       "<title>7&#45;&gt;8</title>\n",
       "<path fill=\"none\" stroke=\"#000000\" d=\"M159.8541,-99.7647C153.8101,-90.9057 147.382,-81.4838 141.3014,-72.571\"/>\n",
       "<polygon fill=\"#000000\" stroke=\"#000000\" points=\"144.1288,-70.505 135.6018,-64.2169 138.3464,-74.4501 144.1288,-70.505\"/>\n",
       "</g>\n",
       "<!-- 9 -->\n",
       "<g id=\"node10\" class=\"node\">\n",
       "<title>9</title>\n",
       "<path fill=\"#e58139\" stroke=\"#000000\" d=\"M311.308,-64C311.308,-64 207.9361,-64 207.9361,-64 201.9361,-64 195.9361,-58 195.9361,-52 195.9361,-52 195.9361,-12 195.9361,-12 195.9361,-6 201.9361,0 207.9361,0 207.9361,0 311.308,0 311.308,0 317.308,0 323.308,-6 323.308,-12 323.308,-12 323.308,-52 323.308,-52 323.308,-58 317.308,-64 311.308,-64\"/>\n",
       "<text text-anchor=\"start\" x=\"231.0171\" y=\"-48.8\" font-family=\"Helvetica,sans-Serif\" font-size=\"14.00\" fill=\"#000000\">gini = 0.0</text>\n",
       "<text text-anchor=\"start\" x=\"221.686\" y=\"-34.8\" font-family=\"Helvetica,sans-Serif\" font-size=\"14.00\" fill=\"#000000\">samples = 1</text>\n",
       "<text text-anchor=\"start\" x=\"203.7793\" y=\"-20.8\" font-family=\"Helvetica,sans-Serif\" font-size=\"14.00\" fill=\"#000000\">value = [1, 0, 0, 0]</text>\n",
       "<text text-anchor=\"start\" x=\"219.355\" y=\"-6.8\" font-family=\"Helvetica,sans-Serif\" font-size=\"14.00\" fill=\"#000000\">class = close</text>\n",
       "</g>\n",
       "<!-- 7&#45;&gt;9 -->\n",
       "<g id=\"edge9\" class=\"edge\">\n",
       "<title>7&#45;&gt;9</title>\n",
       "<path fill=\"none\" stroke=\"#000000\" d=\"M213.3901,-99.7647C219.4341,-90.9057 225.8621,-81.4838 231.9428,-72.571\"/>\n",
       "<polygon fill=\"#000000\" stroke=\"#000000\" points=\"234.8978,-74.4501 237.6423,-64.2169 229.1153,-70.505 234.8978,-74.4501\"/>\n",
       "</g>\n",
       "<!-- 12 -->\n",
       "<g id=\"node13\" class=\"node\">\n",
       "<title>12</title>\n",
       "<path fill=\"#d739e5\" stroke=\"#000000\" d=\"M511.3664,-285C511.3664,-285 405.8777,-285 405.8777,-285 399.8777,-285 393.8777,-279 393.8777,-273 393.8777,-273 393.8777,-233 393.8777,-233 393.8777,-227 399.8777,-221 405.8777,-221 405.8777,-221 511.3664,-221 511.3664,-221 517.3664,-221 523.3664,-227 523.3664,-233 523.3664,-233 523.3664,-273 523.3664,-273 523.3664,-279 517.3664,-285 511.3664,-285\"/>\n",
       "<text text-anchor=\"start\" x=\"430.0171\" y=\"-269.8\" font-family=\"Helvetica,sans-Serif\" font-size=\"14.00\" fill=\"#000000\">gini = 0.0</text>\n",
       "<text text-anchor=\"start\" x=\"420.686\" y=\"-255.8\" font-family=\"Helvetica,sans-Serif\" font-size=\"14.00\" fill=\"#000000\">samples = 2</text>\n",
       "<text text-anchor=\"start\" x=\"402.7793\" y=\"-241.8\" font-family=\"Helvetica,sans-Serif\" font-size=\"14.00\" fill=\"#000000\">value = [0, 0, 0, 2]</text>\n",
       "<text text-anchor=\"start\" x=\"402\" y=\"-227.8\" font-family=\"Helvetica,sans-Serif\" font-size=\"14.00\" fill=\"#000000\">class = no change</text>\n",
       "</g>\n",
       "<!-- 11&#45;&gt;12 -->\n",
       "<g id=\"edge12\" class=\"edge\">\n",
       "<title>11&#45;&gt;12</title>\n",
       "<path fill=\"none\" stroke=\"#000000\" d=\"M458.6221,-327.7677C458.6221,-317.3338 458.6221,-306.0174 458.6221,-295.4215\"/>\n",
       "<polygon fill=\"#000000\" stroke=\"#000000\" points=\"462.1222,-295.1252 458.6221,-285.1252 455.1222,-295.1252 462.1222,-295.1252\"/>\n",
       "</g>\n",
       "<!-- 13 -->\n",
       "<g id=\"node14\" class=\"node\">\n",
       "<title>13</title>\n",
       "<path fill=\"#e58139\" stroke=\"#000000\" d=\"M656.308,-285C656.308,-285 552.9361,-285 552.9361,-285 546.9361,-285 540.9361,-279 540.9361,-273 540.9361,-273 540.9361,-233 540.9361,-233 540.9361,-227 546.9361,-221 552.9361,-221 552.9361,-221 656.308,-221 656.308,-221 662.308,-221 668.308,-227 668.308,-233 668.308,-233 668.308,-273 668.308,-273 668.308,-279 662.308,-285 656.308,-285\"/>\n",
       "<text text-anchor=\"start\" x=\"576.0171\" y=\"-269.8\" font-family=\"Helvetica,sans-Serif\" font-size=\"14.00\" fill=\"#000000\">gini = 0.0</text>\n",
       "<text text-anchor=\"start\" x=\"566.686\" y=\"-255.8\" font-family=\"Helvetica,sans-Serif\" font-size=\"14.00\" fill=\"#000000\">samples = 1</text>\n",
       "<text text-anchor=\"start\" x=\"548.7793\" y=\"-241.8\" font-family=\"Helvetica,sans-Serif\" font-size=\"14.00\" fill=\"#000000\">value = [1, 0, 0, 0]</text>\n",
       "<text text-anchor=\"start\" x=\"564.355\" y=\"-227.8\" font-family=\"Helvetica,sans-Serif\" font-size=\"14.00\" fill=\"#000000\">class = close</text>\n",
       "</g>\n",
       "<!-- 11&#45;&gt;13 -->\n",
       "<g id=\"edge13\" class=\"edge\">\n",
       "<title>11&#45;&gt;13</title>\n",
       "<path fill=\"none\" stroke=\"#000000\" d=\"M508.867,-327.7677C523.9,-316.0296 540.3635,-303.1745 555.3343,-291.485\"/>\n",
       "<polygon fill=\"#000000\" stroke=\"#000000\" points=\"557.7514,-294.0382 563.4793,-285.1252 553.4433,-288.5209 557.7514,-294.0382\"/>\n",
       "</g>\n",
       "<!-- 15 -->\n",
       "<g id=\"node16\" class=\"node\">\n",
       "<title>15</title>\n",
       "<path fill=\"#d739e5\" stroke=\"#000000\" d=\"M673.3664,-399C673.3664,-399 567.8777,-399 567.8777,-399 561.8777,-399 555.8777,-393 555.8777,-387 555.8777,-387 555.8777,-347 555.8777,-347 555.8777,-341 561.8777,-335 567.8777,-335 567.8777,-335 673.3664,-335 673.3664,-335 679.3664,-335 685.3664,-341 685.3664,-347 685.3664,-347 685.3664,-387 685.3664,-387 685.3664,-393 679.3664,-399 673.3664,-399\"/>\n",
       "<text text-anchor=\"start\" x=\"592.0171\" y=\"-383.8\" font-family=\"Helvetica,sans-Serif\" font-size=\"14.00\" fill=\"#000000\">gini = 0.0</text>\n",
       "<text text-anchor=\"start\" x=\"582.686\" y=\"-369.8\" font-family=\"Helvetica,sans-Serif\" font-size=\"14.00\" fill=\"#000000\">samples = 2</text>\n",
       "<text text-anchor=\"start\" x=\"564.7793\" y=\"-355.8\" font-family=\"Helvetica,sans-Serif\" font-size=\"14.00\" fill=\"#000000\">value = [0, 0, 0, 2]</text>\n",
       "<text text-anchor=\"start\" x=\"564\" y=\"-341.8\" font-family=\"Helvetica,sans-Serif\" font-size=\"14.00\" fill=\"#000000\">class = no change</text>\n",
       "</g>\n",
       "<!-- 14&#45;&gt;15 -->\n",
       "<g id=\"edge15\" class=\"edge\">\n",
       "<title>14&#45;&gt;15</title>\n",
       "<path fill=\"none\" stroke=\"#000000\" d=\"M625.2131,-441.7677C624.5724,-431.3338 623.8775,-420.0174 623.2269,-409.4215\"/>\n",
       "<polygon fill=\"#000000\" stroke=\"#000000\" points=\"626.7011,-408.8919 622.5947,-399.1252 619.7142,-409.3209 626.7011,-408.8919\"/>\n",
       "</g>\n",
       "<!-- 16 -->\n",
       "<g id=\"node17\" class=\"node\">\n",
       "<title>16</title>\n",
       "<path fill=\"#399de5\" stroke=\"#000000\" d=\"M818.308,-399C818.308,-399 714.9361,-399 714.9361,-399 708.9361,-399 702.9361,-393 702.9361,-387 702.9361,-387 702.9361,-347 702.9361,-347 702.9361,-341 708.9361,-335 714.9361,-335 714.9361,-335 818.308,-335 818.308,-335 824.308,-335 830.308,-341 830.308,-347 830.308,-347 830.308,-387 830.308,-387 830.308,-393 824.308,-399 818.308,-399\"/>\n",
       "<text text-anchor=\"start\" x=\"738.0171\" y=\"-383.8\" font-family=\"Helvetica,sans-Serif\" font-size=\"14.00\" fill=\"#000000\">gini = 0.0</text>\n",
       "<text text-anchor=\"start\" x=\"728.686\" y=\"-369.8\" font-family=\"Helvetica,sans-Serif\" font-size=\"14.00\" fill=\"#000000\">samples = 1</text>\n",
       "<text text-anchor=\"start\" x=\"710.7793\" y=\"-355.8\" font-family=\"Helvetica,sans-Serif\" font-size=\"14.00\" fill=\"#000000\">value = [0, 0, 1, 0]</text>\n",
       "<text text-anchor=\"start\" x=\"727.124\" y=\"-341.8\" font-family=\"Helvetica,sans-Serif\" font-size=\"14.00\" fill=\"#000000\">class = open</text>\n",
       "</g>\n",
       "<!-- 14&#45;&gt;16 -->\n",
       "<g id=\"edge16\" class=\"edge\">\n",
       "<title>14&#45;&gt;16</title>\n",
       "<path fill=\"none\" stroke=\"#000000\" d=\"M675.458,-441.7677C689.7702,-430.0296 705.4443,-417.1745 719.6974,-405.485\"/>\n",
       "<polygon fill=\"#000000\" stroke=\"#000000\" points=\"721.9392,-408.173 727.4519,-399.1252 717.5002,-402.7604 721.9392,-408.173\"/>\n",
       "</g>\n",
       "</g>\n",
       "</svg>\n"
      ],
      "text/plain": [
       "<graphviz.files.Source at 0x121e05ef0>"
      ]
     },
     "execution_count": 88,
     "metadata": {},
     "output_type": "execute_result"
    }
   ],
   "source": [
    "import graphviz \n",
    "dot_data = tree.export_graphviz(treemodel, out_file=None, feature_names = testset.columns[1:15], \n",
    "                                class_names = ['close','no','open','no change'],filled=True, \n",
    "                                rounded=True,  special_characters=True) \n",
    "graph = graphviz.Source(dot_data)  \n",
    "graph \n",
    "# graph.render(\"branch tree\") "
   ]
  },
  {
   "cell_type": "code",
   "execution_count": 89,
   "metadata": {},
   "outputs": [
    {
     "data": {
      "text/plain": [
       "array([ 0.,  0., -1.,  0., -1., -1.,  0.,  0.,  1.,  2.,  0.,  2., -1.,\n",
       "       -1.,  0.,  0.,  2.,  2.,  0.,  0.,  0., -1.,  0.,  0.,  0.,  0.,\n",
       "        0., -1.,  0., -1.,  0., -1.,  0.,  0., -1.,  2., -1.,  0.,  0.,\n",
       "        0.,  0.,  0.,  2., -1.,  0.,  0., -1.,  2.,  2.,  0.,  0.,  0.,\n",
       "        0.,  0.])"
      ]
     },
     "execution_count": 89,
     "metadata": {},
     "output_type": "execute_result"
    }
   ],
   "source": [
    "treemodel.predict(A)"
   ]
  },
  {
   "cell_type": "code",
   "execution_count": 90,
   "metadata": {},
   "outputs": [
    {
     "name": "stdout",
     "output_type": "stream",
     "text": [
      "true rate = 0.5925925925925926 false rate= 0.4074074074074074\n"
     ]
    }
   ],
   "source": [
    "ratecalcu(treemodel.predict(A))"
   ]
  },
  {
   "cell_type": "code",
   "execution_count": 91,
   "metadata": {},
   "outputs": [
    {
     "data": {
      "text/plain": [
       "array([[12,  1,  0,  5],\n",
       "       [ 0, 31,  0,  0],\n",
       "       [ 1,  0,  0,  0],\n",
       "       [ 0,  0,  1,  3]])"
      ]
     },
     "execution_count": 91,
     "metadata": {},
     "output_type": "execute_result"
    }
   ],
   "source": [
    "from sklearn.metrics import confusion_matrix\n",
    "y_true = testset['label']\n",
    "y_pred = treemodel.predict(A)\n",
    "confusion_matrix(y_true, y_pred)"
   ]
  },
  {
   "cell_type": "markdown",
   "metadata": {},
   "source": [
    "### neural network"
   ]
  },
  {
   "cell_type": "code",
   "execution_count": 92,
   "metadata": {},
   "outputs": [
    {
     "data": {
      "text/plain": [
       "MLPClassifier(activation='relu', alpha=1e-05, batch_size='auto', beta_1=0.9,\n",
       "       beta_2=0.999, early_stopping=False, epsilon=1e-08,\n",
       "       hidden_layer_sizes=(12,), learning_rate='adaptive',\n",
       "       learning_rate_init=0.001, max_iter=200, momentum=0.9,\n",
       "       nesterovs_momentum=True, power_t=0.5, random_state=1, shuffle=True,\n",
       "       solver='lbfgs', tol=0.0001, validation_fraction=0.1, verbose=False,\n",
       "       warm_start=False)"
      ]
     },
     "execution_count": 92,
     "metadata": {},
     "output_type": "execute_result"
    }
   ],
   "source": [
    "from sklearn.neural_network import MLPClassifier\n",
    "neuralmodel = MLPClassifier(solver='lbfgs', alpha=1e-5,\n",
    "                     hidden_layer_sizes=(12,), random_state=1, learning_rate = 'adaptive')\n",
    "\n",
    "neuralmodel.fit(X, Y)                         "
   ]
  },
  {
   "cell_type": "code",
   "execution_count": 93,
   "metadata": {},
   "outputs": [
    {
     "data": {
      "text/plain": [
       "array([ 0.,  0., -1.,  2., -1., -1.,  0.,  0., -1.,  2.,  0., -1., -1.,\n",
       "       -1.,  0.,  0., -1., -1.,  0.,  0.,  0., -1.,  0.,  2.,  0.,  0.,\n",
       "        0., -1.,  0., -1.,  0., -1.,  0.,  0., -1.,  2., -1., -1.,  0.,\n",
       "        0.,  0.,  0.,  1., -1.,  0.,  0.,  2.,  2., -1.,  0.,  0.,  0.,\n",
       "        0.,  0.])"
      ]
     },
     "execution_count": 93,
     "metadata": {},
     "output_type": "execute_result"
    }
   ],
   "source": [
    "neuralmodel.predict(A)"
   ]
  },
  {
   "cell_type": "code",
   "execution_count": 94,
   "metadata": {},
   "outputs": [
    {
     "name": "stdout",
     "output_type": "stream",
     "text": [
      "true rate = 0.5370370370370371 false rate= 0.46296296296296297\n"
     ]
    }
   ],
   "source": [
    "ratecalcu(neuralmodel.predict(A))"
   ]
  },
  {
   "cell_type": "code",
   "execution_count": 95,
   "metadata": {},
   "outputs": [
    {
     "data": {
      "text/plain": [
       "array([[14,  1,  1,  2],\n",
       "       [ 1, 28,  0,  2],\n",
       "       [ 1,  0,  0,  0],\n",
       "       [ 2,  0,  0,  2]])"
      ]
     },
     "execution_count": 95,
     "metadata": {},
     "output_type": "execute_result"
    }
   ],
   "source": [
    "from sklearn.metrics import confusion_matrix\n",
    "y_true = testset['label']\n",
    "y_pred = neuralmodel.predict(A)\n",
    "confusion_matrix(y_true, y_pred)"
   ]
  },
  {
   "cell_type": "markdown",
   "metadata": {},
   "source": [
    "### random forest"
   ]
  },
  {
   "cell_type": "code",
   "execution_count": 96,
   "metadata": {},
   "outputs": [
    {
     "data": {
      "text/plain": [
       "RandomForestClassifier(bootstrap=True, class_weight=None, criterion='gini',\n",
       "            max_depth=2, max_features='auto', max_leaf_nodes=None,\n",
       "            min_impurity_split=1e-07, min_samples_leaf=1,\n",
       "            min_samples_split=2, min_weight_fraction_leaf=0.0,\n",
       "            n_estimators=10, n_jobs=1, oob_score=False, random_state=0,\n",
       "            verbose=0, warm_start=False)"
      ]
     },
     "execution_count": 96,
     "metadata": {},
     "output_type": "execute_result"
    }
   ],
   "source": [
    "from sklearn.ensemble import RandomForestClassifier\n",
    "forestmodel = RandomForestClassifier(max_depth=2, random_state=0)\n",
    "forestmodel.fit(X,Y)"
   ]
  },
  {
   "cell_type": "code",
   "execution_count": 97,
   "metadata": {},
   "outputs": [
    {
     "name": "stdout",
     "output_type": "stream",
     "text": [
      "[ 0.12633115  0.22919118  0.30279358  0.06710019  0.          0.05334863\n",
      "  0.          0.04793234  0.07764705  0.          0.0106951   0.          0.\n",
      "  0.08496078]\n"
     ]
    }
   ],
   "source": [
    "print(forestmodel.feature_importances_)"
   ]
  },
  {
   "cell_type": "code",
   "execution_count": 98,
   "metadata": {},
   "outputs": [
    {
     "data": {
      "text/plain": [
       "array([ 0.,  0., -1.,  0., -1., -1.,  0.,  0., -1., -1.,  0., -1., -1.,\n",
       "       -1.,  0.,  0., -1., -1.,  0.,  0.,  0., -1.,  0.,  0.,  0.,  0.,\n",
       "        0., -1.,  0., -1.,  0., -1.,  0.,  0., -1., -1., -1.,  0.,  0.,\n",
       "        0.,  0.,  0., -1., -1.,  0.,  0., -1., -1., -1.,  0.,  0.,  0.,\n",
       "        0.,  0.])"
      ]
     },
     "execution_count": 98,
     "metadata": {},
     "output_type": "execute_result"
    }
   ],
   "source": [
    "forestmodel.predict(A)"
   ]
  },
  {
   "cell_type": "code",
   "execution_count": 99,
   "metadata": {},
   "outputs": [
    {
     "name": "stdout",
     "output_type": "stream",
     "text": [
      "true rate = 0.5925925925925926 false rate= 0.4074074074074074\n"
     ]
    }
   ],
   "source": [
    "ratecalcu(forestmodel.predict(A))"
   ]
  },
  {
   "cell_type": "code",
   "execution_count": 100,
   "metadata": {},
   "outputs": [
    {
     "data": {
      "text/plain": [
       "array([[17,  1,  0,  0],\n",
       "       [ 0, 31,  0,  0],\n",
       "       [ 1,  0,  0,  0],\n",
       "       [ 4,  0,  0,  0]])"
      ]
     },
     "execution_count": 100,
     "metadata": {},
     "output_type": "execute_result"
    }
   ],
   "source": [
    "from sklearn.metrics import confusion_matrix\n",
    "y_true = testset['label']\n",
    "y_pred = forestmodel.predict(A)\n",
    "confusion_matrix(y_true, y_pred)"
   ]
  },
  {
   "cell_type": "markdown",
   "metadata": {},
   "source": [
    "### classifier comparison"
   ]
  },
  {
   "cell_type": "code",
   "execution_count": 101,
   "metadata": {
    "collapsed": true
   },
   "outputs": [],
   "source": [
    "# import matplotlib.pyplot as plt\n",
    "# from sklearn.decomposition import PCA\n",
    "# pca = PCA(n_components = 2)\n",
    "# pcatrain = pca.fit_transform(X)\n",
    "# # plt.scatter(pcatrain[:,0],pcatrain[:,1])\n",
    "# pcatest = pca.fit_transform(A)\n",
    "# # plt.scatter(pcatest[:,0],pcatest[:,1])\n",
    "\n",
    "# for label, x, y in zip(Y, pcatrain[:,0], pcatrain[:,1]):\n",
    "#      plt.annotate(label, xy = (x, y), xytext = (20, 20),\n",
    "#         textcoords = 'offset points', ha = 'right', va = 'bottom',\n",
    "#         bbox = dict(boxstyle = 'round,pad=0.6', fc = '#eeeeff', alpha = 0.5),\n",
    "#         arrowprops = dict(arrowstyle = '->', connectionstyle = 'arc3,rad=0'))\n",
    "        \n",
    "# for label, x, y in zip(B, pcatest[:,0], pcatest[:,1]):\n",
    "#      plt.annotate(label, xy = (x, y), xytext = (-10, 20),\n",
    "#         textcoords = 'offset points', ha = 'right', va = 'bottom',\n",
    "#         bbox = dict(boxstyle = 'round,pad=0.6', fc = '#eeeeff', alpha = 0.5),\n",
    "#         arrowprops = dict(arrowstyle = '->', connectionstyle = 'arc3,rad=0'))\n",
    "        \n",
    "# plt.show()"
   ]
  },
  {
   "cell_type": "code",
   "execution_count": 102,
   "metadata": {},
   "outputs": [
    {
     "ename": "NameError",
     "evalue": "name 'pcamodel' is not defined",
     "output_type": "error",
     "traceback": [
      "\u001b[0;31m---------------------------------------------------------------------------\u001b[0m",
      "\u001b[0;31mNameError\u001b[0m                                 Traceback (most recent call last)",
      "\u001b[0;32m<ipython-input-102-ccd740084768>\u001b[0m in \u001b[0;36m<module>\u001b[0;34m()\u001b[0m\n\u001b[1;32m     27\u001b[0m \u001b[0;31m#     ax.set_title(\"Input data\")\u001b[0m\u001b[0;34m\u001b[0m\u001b[0;34m\u001b[0m\u001b[0m\n\u001b[1;32m     28\u001b[0m \u001b[0;31m# Plot the training points\u001b[0m\u001b[0;34m\u001b[0m\u001b[0;34m\u001b[0m\u001b[0m\n\u001b[0;32m---> 29\u001b[0;31m ax.scatter(pcamodel[:, 0], pcamodel[:,1], c=Y, cmap=cm_bright,\n\u001b[0m\u001b[1;32m     30\u001b[0m            edgecolors='k')\n\u001b[1;32m     31\u001b[0m \u001b[0;31m# and testing points\u001b[0m\u001b[0;34m\u001b[0m\u001b[0;34m\u001b[0m\u001b[0m\n",
      "\u001b[0;31mNameError\u001b[0m: name 'pcamodel' is not defined"
     ]
    }
   ],
   "source": [
    "# import matplotlib.pyplot as plt\n",
    "# from matplotlib.colors import ListedColormap\n",
    "\n",
    "# figure = plt.figure(figsize=(27, 9))\n",
    "# i = 1\n",
    "\n",
    "# names = [\"Logistic Regression\", \"Naive Bayes\", \"KNeighbors\", \"DecisionTree\",\n",
    "#          \"Neural Net\", \"Random Forest\"]\n",
    "\n",
    "# classifiers = [\n",
    "#     KNeighborsClassifier(3),\n",
    "#     SVC(kernel=\"linear\", C=0.025),\n",
    "#     SVC(gamma=2, C=1),\n",
    "#     GaussianProcessClassifier(1.0 * RBF(1.0)),\n",
    "#     DecisionTreeClassifier(max_depth=5),\n",
    "#     RandomForestClassifier(max_depth=5, n_estimators=10, max_features=1),\n",
    "#     MLPClassifier(alpha=1),\n",
    "#     AdaBoostClassifier(),\n",
    "#     GaussianNB(),\n",
    "#     QuadraticDiscriminantAnalysis()]\n",
    "\n",
    "# plot the trainset\n",
    "# cm = plt.cm.RdBu\n",
    "# cm_bright = ListedColormap(['#FF0000', '#0000FF'])\n",
    "# ax = plt.subplot(1, 6,i)\n",
    "# # if ds_cnt == 0:\n",
    "# #     ax.set_title(\"Input data\")\n",
    "# # Plot the training points\n",
    "# ax.scatter(pcamodel[:, 0], pcamodel[:,1], c=Y, cmap=cm_bright,\n",
    "#            edgecolors='k')\n",
    "# # and testing points\n",
    "# ax.scatter(pcatest[:, 0], pcatest[:, 1], c=B, cmap=cm_bright, alpha=0.6,\n",
    "#            edgecolors='k')\n",
    "# # ax.set_xlim(xx.min(), xx.max())\n",
    "# # ax.set_ylim(yy.min(), yy.max())\n",
    "# # ax.set_xticks(())\n",
    "# # ax.set_yticks(())\n",
    "# # i += 1\n",
    "# plt.show()"
   ]
  },
  {
   "cell_type": "code",
   "execution_count": 103,
   "metadata": {},
   "outputs": [
    {
     "data": {
      "image/png": "[encoded data removed]",
      "text/plain": [
       "<matplotlib.figure.Figure at 0x136dab4e0>"
      ]
     },
     "metadata": {},
     "output_type": "display_data"
    }
   ],
   "source": [
    "import matplotlib.pyplot as plt; plt.rcdefaults()\n",
    "import matplotlib.pyplot as plt\n",
    " \n",
    "objects = (\"Logistic\", \"Naive Bayes\", \"KNN\", \"Decision Tree\", \"Neural\", \"RandomForest\")\n",
    "y_pos = np.arange(len(objects))\n",
    "performance = [0.907,0.574,0.722,0.592,0.611,0.592]\n",
    " \n",
    "plt.bar(y_pos, performance, align='center', alpha=0.5)\n",
    "plt.xticks(y_pos, objects)\n",
    "plt.ylabel('percentage of true prediction')\n",
    "plt.title('classifier comparison')\n",
    " \n",
    "plt.show()"
   ]
  },
  {
   "cell_type": "code",
   "execution_count": null,
   "metadata": {
    "collapsed": true
   },
   "outputs": [],
   "source": []
  }
 ],
 "metadata": {
  "kernelspec": {
   "display_name": "Python 3",
   "language": "python",
   "name": "python3"
  },
  "language_info": {
   "codemirror_mode": {
    "name": "ipython",
    "version": 3
   },
   "file_extension": ".py",
   "mimetype": "text/x-python",
   "name": "python",
   "nbconvert_exporter": "python",
   "pygments_lexer": "ipython3",
   "version": "3.6.1"
  }
 },
 "nbformat": 4,
 "nbformat_minor": 2
}
