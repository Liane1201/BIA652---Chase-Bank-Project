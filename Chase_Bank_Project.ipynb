{
 "cells": [
  {
   "cell_type": "code",
   "execution_count": 1,
   "metadata": {
    "collapsed": true
   },
   "outputs": [],
   "source": [
    "import pandas as pd \n",
    "import numpy as np\n",
    "import seaborn as sns\n",
    "import matplotlib.pyplot as plt\n",
    "%matplotlib inline\n",
    "import os"
   ]
  },
  {
   "cell_type": "code",
   "execution_count": 39,
   "metadata": {},
   "outputs": [
    {
     "name": "stderr",
     "output_type": "stream",
     "text": [
      "/anaconda3/lib/python3.6/site-packages/IPython/core/interactiveshell.py:2698: DtypeWarning: Columns (62) have mixed types. Specify dtype option on import or set low_memory=False.\n",
      "  interactivity=interactivity, compiler=compiler, result=result)\n",
      "/anaconda3/lib/python3.6/site-packages/IPython/core/interactiveshell.py:2698: DtypeWarning: Columns (28) have mixed types. Specify dtype option on import or set low_memory=False.\n",
      "  interactivity=interactivity, compiler=compiler, result=result)\n"
     ]
    }
   ],
   "source": [
    "df_2010 = pd.read_csv(\"/Users/xiadylan/Downloads/Archive/ALL_2010.csv\",encoding='ISO-8859-1')\n",
    "df_2011 = pd.read_csv(\"/Users/xiadylan/Downloads/Archive/ALL_2011.csv\",encoding='ISO-8859-1')\n",
    "df_2012 = pd.read_csv(\"/Users/xiadylan/Downloads/Archive/ALL_2012.csv\",encoding='ISO-8859-1')\n",
    "df_2013 = pd.read_csv(\"/Users/xiadylan/Downloads/Archive/ALL_2013.csv\",encoding='ISO-8859-1')\n",
    "df_2014 = pd.read_csv(\"/Users/xiadylan/Downloads/Archive/ALL_2014.csv\",encoding='ISO-8859-1')\n",
    "df_2015 = pd.read_csv(\"/Users/xiadylan/Downloads/Archive/ALL_2015.csv\",encoding='ISO-8859-1')\n",
    "df_2016 = pd.read_csv(\"/Users/xiadylan/Downloads/Archive/ALL_2016.csv\",encoding='ISO-8859-1')"
   ]
  },
  {
   "cell_type": "code",
   "execution_count": 40,
   "metadata": {
    "collapsed": true
   },
   "outputs": [],
   "source": [
    "df_2017 = pd.read_csv(\"/Users/xiadylan/Downloads/ALL_2017.csv\",encoding='ISO-8859-1')"
   ]
  },
  {
   "cell_type": "code",
   "execution_count": 41,
   "metadata": {
    "collapsed": true
   },
   "outputs": [],
   "source": [
    "def extract_data(x):\n",
    "    return x[x['NAMEFULL'] == 'JPMorgan Chase Bank, National Association']"
   ]
  },
  {
   "cell_type": "code",
   "execution_count": 42,
   "metadata": {
    "collapsed": true
   },
   "outputs": [],
   "source": [
    "df_2010_data = extract_data(df_2010)\n",
    "df_2011_data = extract_data(df_2011)\n",
    "df_2012_data = extract_data(df_2012)\n",
    "df_2013_data = extract_data(df_2013)\n",
    "df_2014_data = extract_data(df_2014)\n",
    "df_2015_data = extract_data(df_2015)\n",
    "df_2016_data = extract_data(df_2016)\n",
    "df_2017_data = extract_data(df_2017)"
   ]
  },
  {
   "cell_type": "code",
   "execution_count": 43,
   "metadata": {
    "collapsed": true
   },
   "outputs": [],
   "source": [
    "def reset_index(x):\n",
    "    x = x.reset_index()\n",
    "    x = x.drop(\"index\",axis=1)\n",
    "    return x"
   ]
  },
  {
   "cell_type": "code",
   "execution_count": 44,
   "metadata": {
    "collapsed": true
   },
   "outputs": [],
   "source": [
    "df_2010_data = reset_index(df_2010_data)"
   ]
  },
  {
   "cell_type": "code",
   "execution_count": 45,
   "metadata": {
    "collapsed": true
   },
   "outputs": [],
   "source": [
    "df_2011_data = reset_index(df_2011_data)\n",
    "df_2012_data = reset_index(df_2012_data)\n",
    "df_2013_data = reset_index(df_2013_data)\n",
    "df_2014_data = reset_index(df_2014_data)\n",
    "df_2015_data = reset_index(df_2015_data)\n",
    "df_2016_data = reset_index(df_2016_data)\n",
    "df_2017_data = reset_index(df_2017_data)\n"
   ]
  },
  {
   "cell_type": "code",
   "execution_count": 46,
   "metadata": {},
   "outputs": [
    {
     "data": {
      "text/html": [
       "<div>\n",
       "<style>\n",
       "    .dataframe thead tr:only-child th {\n",
       "        text-align: right;\n",
       "    }\n",
       "\n",
       "    .dataframe thead th {\n",
       "        text-align: left;\n",
       "    }\n",
       "\n",
       "    .dataframe tbody tr th {\n",
       "        vertical-align: top;\n",
       "    }\n",
       "</style>\n",
       "<table border=\"1\" class=\"dataframe\">\n",
       "  <thead>\n",
       "    <tr style=\"text-align: right;\">\n",
       "      <th></th>\n",
       "      <th>YEAR</th>\n",
       "      <th>CERT</th>\n",
       "      <th>BRNUM</th>\n",
       "      <th>UNINUMBR</th>\n",
       "      <th>NAMEFULL</th>\n",
       "      <th>ADDRESBR</th>\n",
       "      <th>CITYBR</th>\n",
       "      <th>CNTYNAMB</th>\n",
       "      <th>STALPBR</th>\n",
       "      <th>ZIPBR</th>\n",
       "      <th>...</th>\n",
       "      <th>INSBRDD</th>\n",
       "      <th>INSBRTS</th>\n",
       "      <th>OCCDIST</th>\n",
       "      <th>OCCNAME</th>\n",
       "      <th>REGAGNT</th>\n",
       "      <th>SPECGRP</th>\n",
       "      <th>SPECDESC</th>\n",
       "      <th>STCNTY</th>\n",
       "      <th>STNAME</th>\n",
       "      <th>USA</th>\n",
       "    </tr>\n",
       "  </thead>\n",
       "  <tbody>\n",
       "    <tr>\n",
       "      <th>0</th>\n",
       "      <td>2011</td>\n",
       "      <td>628</td>\n",
       "      <td>1959</td>\n",
       "      <td>13599</td>\n",
       "      <td>JPMorgan Chase Bank, National Association</td>\n",
       "      <td>0n North 010 Winfield Road</td>\n",
       "      <td>Winfield</td>\n",
       "      <td>DuPage</td>\n",
       "      <td>IL</td>\n",
       "      <td>60190</td>\n",
       "      <td>...</td>\n",
       "      <td>0</td>\n",
       "      <td>0</td>\n",
       "      <td>3</td>\n",
       "      <td>Central District</td>\n",
       "      <td>OCC</td>\n",
       "      <td>1</td>\n",
       "      <td>INTERNATIONAL</td>\n",
       "      <td>39041</td>\n",
       "      <td>OHIO</td>\n",
       "      <td>1</td>\n",
       "    </tr>\n",
       "    <tr>\n",
       "      <th>1</th>\n",
       "      <td>2011</td>\n",
       "      <td>628</td>\n",
       "      <td>1838</td>\n",
       "      <td>2306</td>\n",
       "      <td>JPMorgan Chase Bank, National Association</td>\n",
       "      <td>1 Bank One Plaza</td>\n",
       "      <td>Chicago</td>\n",
       "      <td>Cook</td>\n",
       "      <td>IL</td>\n",
       "      <td>60670</td>\n",
       "      <td>...</td>\n",
       "      <td>0</td>\n",
       "      <td>0</td>\n",
       "      <td>3</td>\n",
       "      <td>Central District</td>\n",
       "      <td>OCC</td>\n",
       "      <td>1</td>\n",
       "      <td>INTERNATIONAL</td>\n",
       "      <td>39041</td>\n",
       "      <td>OHIO</td>\n",
       "      <td>1</td>\n",
       "    </tr>\n",
       "    <tr>\n",
       "      <th>2</th>\n",
       "      <td>2011</td>\n",
       "      <td>628</td>\n",
       "      <td>1255</td>\n",
       "      <td>183427</td>\n",
       "      <td>JPMorgan Chase Bank, National Association</td>\n",
       "      <td>1 Chase Manhattan Plaza, 33rd Floor</td>\n",
       "      <td>New York</td>\n",
       "      <td>New York</td>\n",
       "      <td>NY</td>\n",
       "      <td>10005</td>\n",
       "      <td>...</td>\n",
       "      <td>0</td>\n",
       "      <td>0</td>\n",
       "      <td>3</td>\n",
       "      <td>Central District</td>\n",
       "      <td>OCC</td>\n",
       "      <td>1</td>\n",
       "      <td>INTERNATIONAL</td>\n",
       "      <td>39041</td>\n",
       "      <td>OHIO</td>\n",
       "      <td>1</td>\n",
       "    </tr>\n",
       "    <tr>\n",
       "      <th>3</th>\n",
       "      <td>2011</td>\n",
       "      <td>628</td>\n",
       "      <td>1016</td>\n",
       "      <td>183064</td>\n",
       "      <td>JPMorgan Chase Bank, National Association</td>\n",
       "      <td>1 Chase Manhattan Plaza, 33rd Floor</td>\n",
       "      <td>New York City</td>\n",
       "      <td>New York</td>\n",
       "      <td>NY</td>\n",
       "      <td>10010</td>\n",
       "      <td>...</td>\n",
       "      <td>0</td>\n",
       "      <td>0</td>\n",
       "      <td>3</td>\n",
       "      <td>Central District</td>\n",
       "      <td>OCC</td>\n",
       "      <td>1</td>\n",
       "      <td>INTERNATIONAL</td>\n",
       "      <td>39041</td>\n",
       "      <td>OHIO</td>\n",
       "      <td>1</td>\n",
       "    </tr>\n",
       "    <tr>\n",
       "      <th>4</th>\n",
       "      <td>2011</td>\n",
       "      <td>628</td>\n",
       "      <td>3864</td>\n",
       "      <td>215041</td>\n",
       "      <td>JPMorgan Chase Bank, National Association</td>\n",
       "      <td>1 East Central Avenue</td>\n",
       "      <td>Pearl River</td>\n",
       "      <td>Rockland</td>\n",
       "      <td>NY</td>\n",
       "      <td>10965</td>\n",
       "      <td>...</td>\n",
       "      <td>0</td>\n",
       "      <td>0</td>\n",
       "      <td>3</td>\n",
       "      <td>Central District</td>\n",
       "      <td>OCC</td>\n",
       "      <td>1</td>\n",
       "      <td>INTERNATIONAL</td>\n",
       "      <td>39041</td>\n",
       "      <td>OHIO</td>\n",
       "      <td>1</td>\n",
       "    </tr>\n",
       "  </tbody>\n",
       "</table>\n",
       "<p>5 rows × 79 columns</p>\n",
       "</div>"
      ],
      "text/plain": [
       "   YEAR  CERT  BRNUM  UNINUMBR                                   NAMEFULL  \\\n",
       "0  2011   628   1959     13599  JPMorgan Chase Bank, National Association   \n",
       "1  2011   628   1838      2306  JPMorgan Chase Bank, National Association   \n",
       "2  2011   628   1255    183427  JPMorgan Chase Bank, National Association   \n",
       "3  2011   628   1016    183064  JPMorgan Chase Bank, National Association   \n",
       "4  2011   628   3864    215041  JPMorgan Chase Bank, National Association   \n",
       "\n",
       "                              ADDRESBR         CITYBR  CNTYNAMB STALPBR  \\\n",
       "0           0n North 010 Winfield Road       Winfield    DuPage      IL   \n",
       "1                     1 Bank One Plaza        Chicago      Cook      IL   \n",
       "2  1 Chase Manhattan Plaza, 33rd Floor       New York  New York      NY   \n",
       "3  1 Chase Manhattan Plaza, 33rd Floor  New York City  New York      NY   \n",
       "4                1 East Central Avenue    Pearl River  Rockland      NY   \n",
       "\n",
       "   ZIPBR ...  INSBRDD  INSBRTS  OCCDIST           OCCNAME  REGAGNT SPECGRP  \\\n",
       "0  60190 ...        0        0        3  Central District      OCC       1   \n",
       "1  60670 ...        0        0        3  Central District      OCC       1   \n",
       "2  10005 ...        0        0        3  Central District      OCC       1   \n",
       "3  10010 ...        0        0        3  Central District      OCC       1   \n",
       "4  10965 ...        0        0        3  Central District      OCC       1   \n",
       "\n",
       "        SPECDESC STCNTY  STNAME  USA  \n",
       "0  INTERNATIONAL  39041    OHIO    1  \n",
       "1  INTERNATIONAL  39041    OHIO    1  \n",
       "2  INTERNATIONAL  39041    OHIO    1  \n",
       "3  INTERNATIONAL  39041    OHIO    1  \n",
       "4  INTERNATIONAL  39041    OHIO    1  \n",
       "\n",
       "[5 rows x 79 columns]"
      ]
     },
     "execution_count": 46,
     "metadata": {},
     "output_type": "execute_result"
    }
   ],
   "source": [
    "df_2011_data.head()"
   ]
  },
  {
   "cell_type": "code",
   "execution_count": 47,
   "metadata": {
    "scrolled": true
   },
   "outputs": [
    {
     "data": {
      "text/plain": [
       "Index(['YEAR', 'CERT', 'BRNUM', 'UNINUMBR', 'NAMEFULL', 'ADDRESBR', 'CITYBR',\n",
       "       'CNTYNAMB', 'STALPBR', 'ZIPBR', 'BRCENM', 'CONSOLD', 'BRSERTYP',\n",
       "       'DEPSUMBR', 'BKMO', 'CBSA_DIV_NAMB', 'CITY2BR', 'CNTRYNAB', 'CNTYNUMB',\n",
       "       'CSABR', 'CSANAMBR', 'DIVISIONB', 'MSABR', 'MSANAMB', 'METROBR',\n",
       "       'MICROBR', 'NAMEBR', 'NECTABR', 'NECNAMB', 'PLACENUM',\n",
       "       'SIMS_ACQUIRED_DATE', 'SIMS_ESTABLISHED_DATE', 'SIMS_LATITUDE',\n",
       "       'SIMS_LONGITUDE', 'SIMS_DESCRIPTION', 'SIMS_PROJECTION', 'STCNTYBR',\n",
       "       'STNAMEBR', 'STNUMBR', 'HCTMULT', 'RSSDHCR', 'NAMEHCR', 'CITYHCR',\n",
       "       'STALPHCR', 'RSSDID', 'UNIT', 'ADDRESS', 'CITY', 'STALP', 'ZIP',\n",
       "       'ASSET', 'BKCLASS', 'CALL', 'CHARTER', 'CHRTAGNN', 'CHRTAGNT', 'CLCODE',\n",
       "       'CNTRYNA', 'DENOVO', 'DEPDOM', 'DEPSUM', 'DOCKET', 'ESCROW', 'FDICDBS',\n",
       "       'FDICNAME', 'FED', 'FEDNAME', 'INSAGNT1', 'INSURED', 'INSBRDD',\n",
       "       'INSBRTS', 'OCCDIST', 'OCCNAME', 'REGAGNT', 'SPECGRP', 'SPECDESC',\n",
       "       'STCNTY', 'STNAME', 'USA'],\n",
       "      dtype='object')"
      ]
     },
     "execution_count": 47,
     "metadata": {},
     "output_type": "execute_result"
    }
   ],
   "source": [
    "df_2010_data.columns"
   ]
  },
  {
   "cell_type": "code",
   "execution_count": 48,
   "metadata": {
    "collapsed": true
   },
   "outputs": [],
   "source": [
    "def extract_data_2(x):\n",
    "    return x[['BRNUM','DEPSUMBR']]"
   ]
  },
  {
   "cell_type": "code",
   "execution_count": 49,
   "metadata": {
    "collapsed": true
   },
   "outputs": [],
   "source": [
    "a = extract_data_2(df_2010_data)\n",
    "b = extract_data_2(df_2011_data)\n",
    "c = extract_data_2(df_2012_data)\n",
    "d = extract_data_2(df_2013_data)\n",
    "e = extract_data_2(df_2014_data)\n",
    "f = extract_data_2(df_2015_data)\n",
    "g = extract_data_2(df_2016_data)\n",
    "h = extract_data_2(df_2017_data)"
   ]
  },
  {
   "cell_type": "code",
   "execution_count": 50,
   "metadata": {
    "collapsed": true
   },
   "outputs": [],
   "source": [
    "def lets_merge(x,y):\n",
    "    z = pd.merge(x,y,on='BRNUM')\n",
    "    return z"
   ]
  },
  {
   "cell_type": "code",
   "execution_count": 51,
   "metadata": {
    "collapsed": true
   },
   "outputs": [],
   "source": [
    "a_b = lets_merge(a,b)\n",
    "c_d = lets_merge(c,d)\n",
    "e_f = lets_merge(e,f)"
   ]
  },
  {
   "cell_type": "code",
   "execution_count": 52,
   "metadata": {
    "collapsed": true
   },
   "outputs": [],
   "source": [
    "a_b_c_d = lets_merge(a_b,c_d)\n",
    "e_f_g = lets_merge(e_f,g)"
   ]
  },
  {
   "cell_type": "code",
   "execution_count": 53,
   "metadata": {},
   "outputs": [
    {
     "data": {
      "text/html": [
       "<div>\n",
       "<style>\n",
       "    .dataframe thead tr:only-child th {\n",
       "        text-align: right;\n",
       "    }\n",
       "\n",
       "    .dataframe thead th {\n",
       "        text-align: left;\n",
       "    }\n",
       "\n",
       "    .dataframe tbody tr th {\n",
       "        vertical-align: top;\n",
       "    }\n",
       "</style>\n",
       "<table border=\"1\" class=\"dataframe\">\n",
       "  <thead>\n",
       "    <tr style=\"text-align: right;\">\n",
       "      <th></th>\n",
       "      <th>BRNUM</th>\n",
       "      <th>deposit2010</th>\n",
       "      <th>deposit2011</th>\n",
       "      <th>deposit2012</th>\n",
       "      <th>deposit2013</th>\n",
       "      <th>deposit2014</th>\n",
       "      <th>deposit2015</th>\n",
       "      <th>deposit2016</th>\n",
       "    </tr>\n",
       "  </thead>\n",
       "  <tbody>\n",
       "    <tr>\n",
       "      <th>0</th>\n",
       "      <td>1959</td>\n",
       "      <td>75,317</td>\n",
       "      <td>80,050</td>\n",
       "      <td>91,765</td>\n",
       "      <td>100,294</td>\n",
       "      <td>106,269</td>\n",
       "      <td>112,422</td>\n",
       "      <td>119,950</td>\n",
       "    </tr>\n",
       "    <tr>\n",
       "      <th>1</th>\n",
       "      <td>1838</td>\n",
       "      <td>22,101,086</td>\n",
       "      <td>27,521,204</td>\n",
       "      <td>36,219,931</td>\n",
       "      <td>39,152,650</td>\n",
       "      <td>47,103,774</td>\n",
       "      <td>43,326,953</td>\n",
       "      <td>36,539,028</td>\n",
       "    </tr>\n",
       "    <tr>\n",
       "      <th>2</th>\n",
       "      <td>1255</td>\n",
       "      <td>3,737</td>\n",
       "      <td>4,173</td>\n",
       "      <td>4,105</td>\n",
       "      <td>3,105</td>\n",
       "      <td>3,517</td>\n",
       "      <td>3,522</td>\n",
       "      <td>3,352</td>\n",
       "    </tr>\n",
       "    <tr>\n",
       "      <th>3</th>\n",
       "      <td>1016</td>\n",
       "      <td>165</td>\n",
       "      <td>158</td>\n",
       "      <td>162</td>\n",
       "      <td>139</td>\n",
       "      <td>133</td>\n",
       "      <td>118</td>\n",
       "      <td>157</td>\n",
       "    </tr>\n",
       "    <tr>\n",
       "      <th>4</th>\n",
       "      <td>3864</td>\n",
       "      <td>68,135</td>\n",
       "      <td>68,040</td>\n",
       "      <td>76,559</td>\n",
       "      <td>87,474</td>\n",
       "      <td>90,723</td>\n",
       "      <td>103,617</td>\n",
       "      <td>104,412</td>\n",
       "    </tr>\n",
       "  </tbody>\n",
       "</table>\n",
       "</div>"
      ],
      "text/plain": [
       "   BRNUM deposit2010 deposit2011 deposit2012 deposit2013 deposit2014  \\\n",
       "0   1959      75,317      80,050      91,765     100,294     106,269   \n",
       "1   1838  22,101,086  27,521,204  36,219,931  39,152,650  47,103,774   \n",
       "2   1255       3,737       4,173       4,105       3,105       3,517   \n",
       "3   1016         165         158         162         139         133   \n",
       "4   3864      68,135      68,040      76,559      87,474      90,723   \n",
       "\n",
       "  deposit2015 deposit2016  \n",
       "0     112,422     119,950  \n",
       "1  43,326,953  36,539,028  \n",
       "2       3,522       3,352  \n",
       "3         118         157  \n",
       "4     103,617     104,412  "
      ]
     },
     "execution_count": 53,
     "metadata": {},
     "output_type": "execute_result"
    }
   ],
   "source": [
    "a_b_c_d_e_f_g = lets_merge(a_b_c_d,e_f_g)\n",
    "a_b_c_d_e_f_g.columns = ['BRNUM','deposit2010','deposit2011','deposit2012','deposit2013','deposit2014','deposit2015','deposit2016']\n",
    "#a_b_c_d_e_f_g[['deposit2010','deposit2011','deposit2012','deposit2013','deposit2014','deposit2015','deposit2016']] == 0\n",
    "a_b_c_d_e_f_g.head()"
   ]
  },
  {
   "cell_type": "code",
   "execution_count": 17,
   "metadata": {},
   "outputs": [
    {
     "data": {
      "text/plain": [
       "0       75317\n",
       "1    22101086\n",
       "2        3737\n",
       "3         165\n",
       "4       68135\n",
       "Name: deposit2010, dtype: object"
      ]
     },
     "execution_count": 17,
     "metadata": {},
     "output_type": "execute_result"
    }
   ],
   "source": [
    "a_b_c_d_e_f_g['deposit2010'].apply(lambda x: x.replace(\",\",\"\")).head()   "
   ]
  },
  {
   "cell_type": "code",
   "execution_count": 18,
   "metadata": {},
   "outputs": [
    {
     "data": {
      "text/html": [
       "<div>\n",
       "<style>\n",
       "    .dataframe thead tr:only-child th {\n",
       "        text-align: right;\n",
       "    }\n",
       "\n",
       "    .dataframe thead th {\n",
       "        text-align: left;\n",
       "    }\n",
       "\n",
       "    .dataframe tbody tr th {\n",
       "        vertical-align: top;\n",
       "    }\n",
       "</style>\n",
       "<table border=\"1\" class=\"dataframe\">\n",
       "  <thead>\n",
       "    <tr style=\"text-align: right;\">\n",
       "      <th></th>\n",
       "      <th>BRNUM</th>\n",
       "      <th>deposit2010</th>\n",
       "      <th>deposit2011</th>\n",
       "      <th>deposit2012</th>\n",
       "      <th>deposit2013</th>\n",
       "      <th>deposit2014</th>\n",
       "      <th>deposit2015</th>\n",
       "      <th>deposit2016</th>\n",
       "    </tr>\n",
       "  </thead>\n",
       "  <tbody>\n",
       "    <tr>\n",
       "      <th>0</th>\n",
       "      <td>1959</td>\n",
       "      <td>75317</td>\n",
       "      <td>80050</td>\n",
       "      <td>91765</td>\n",
       "      <td>100294</td>\n",
       "      <td>106269</td>\n",
       "      <td>112422</td>\n",
       "      <td>119950</td>\n",
       "    </tr>\n",
       "    <tr>\n",
       "      <th>1</th>\n",
       "      <td>1838</td>\n",
       "      <td>22101086</td>\n",
       "      <td>27521204</td>\n",
       "      <td>36219931</td>\n",
       "      <td>39152650</td>\n",
       "      <td>47103774</td>\n",
       "      <td>43326953</td>\n",
       "      <td>36539028</td>\n",
       "    </tr>\n",
       "    <tr>\n",
       "      <th>2</th>\n",
       "      <td>1255</td>\n",
       "      <td>3737</td>\n",
       "      <td>4173</td>\n",
       "      <td>4105</td>\n",
       "      <td>3105</td>\n",
       "      <td>3517</td>\n",
       "      <td>3522</td>\n",
       "      <td>3352</td>\n",
       "    </tr>\n",
       "    <tr>\n",
       "      <th>3</th>\n",
       "      <td>1016</td>\n",
       "      <td>165</td>\n",
       "      <td>158</td>\n",
       "      <td>162</td>\n",
       "      <td>139</td>\n",
       "      <td>133</td>\n",
       "      <td>118</td>\n",
       "      <td>157</td>\n",
       "    </tr>\n",
       "    <tr>\n",
       "      <th>4</th>\n",
       "      <td>3864</td>\n",
       "      <td>68135</td>\n",
       "      <td>68040</td>\n",
       "      <td>76559</td>\n",
       "      <td>87474</td>\n",
       "      <td>90723</td>\n",
       "      <td>103617</td>\n",
       "      <td>104412</td>\n",
       "    </tr>\n",
       "  </tbody>\n",
       "</table>\n",
       "</div>"
      ],
      "text/plain": [
       "   BRNUM deposit2010 deposit2011 deposit2012 deposit2013 deposit2014  \\\n",
       "0   1959       75317       80050       91765      100294      106269   \n",
       "1   1838    22101086    27521204    36219931    39152650    47103774   \n",
       "2   1255        3737        4173        4105        3105        3517   \n",
       "3   1016         165         158         162         139         133   \n",
       "4   3864       68135       68040       76559       87474       90723   \n",
       "\n",
       "  deposit2015 deposit2016  \n",
       "0      112422      119950  \n",
       "1    43326953    36539028  \n",
       "2        3522        3352  \n",
       "3         118         157  \n",
       "4      103617      104412  "
      ]
     },
     "execution_count": 18,
     "metadata": {},
     "output_type": "execute_result"
    }
   ],
   "source": [
    "a_b_c_d_e_f_g['deposit2010'] = a_b_c_d_e_f_g['deposit2010'].apply(lambda x: x.replace(\",\",\"\"))\n",
    "a_b_c_d_e_f_g['deposit2011'] = a_b_c_d_e_f_g['deposit2011'].apply(lambda x: x.replace(\",\",\"\"))\n",
    "a_b_c_d_e_f_g['deposit2012'] = a_b_c_d_e_f_g['deposit2012'].apply(lambda x: x.replace(\",\",\"\"))\n",
    "a_b_c_d_e_f_g['deposit2013'] = a_b_c_d_e_f_g['deposit2013'].apply(lambda x: x.replace(\",\",\"\"))\n",
    "a_b_c_d_e_f_g['deposit2014'] = a_b_c_d_e_f_g['deposit2014'].apply(lambda x: x.replace(\",\",\"\"))\n",
    "a_b_c_d_e_f_g['deposit2015'] = a_b_c_d_e_f_g['deposit2015'].apply(lambda x: x.replace(\",\",\"\"))\n",
    "a_b_c_d_e_f_g['deposit2016'] = a_b_c_d_e_f_g['deposit2016'].apply(lambda x: x.replace(\",\",\"\"))\n",
    "a_b_c_d_e_f_g.head()"
   ]
  },
  {
   "cell_type": "code",
   "execution_count": 19,
   "metadata": {},
   "outputs": [
    {
     "data": {
      "text/plain": [
       "Index(['BRNUM', 'deposit2010', 'deposit2011', 'deposit2012', 'deposit2013',\n",
       "       'deposit2014', 'deposit2015', 'deposit2016'],\n",
       "      dtype='object')"
      ]
     },
     "execution_count": 19,
     "metadata": {},
     "output_type": "execute_result"
    }
   ],
   "source": [
    "a_b_c_d_e_f_g.columns"
   ]
  },
  {
   "cell_type": "code",
   "execution_count": 20,
   "metadata": {},
   "outputs": [
    {
     "data": {
      "text/html": [
       "<div>\n",
       "<style>\n",
       "    .dataframe thead tr:only-child th {\n",
       "        text-align: right;\n",
       "    }\n",
       "\n",
       "    .dataframe thead th {\n",
       "        text-align: left;\n",
       "    }\n",
       "\n",
       "    .dataframe tbody tr th {\n",
       "        vertical-align: top;\n",
       "    }\n",
       "</style>\n",
       "<table border=\"1\" class=\"dataframe\">\n",
       "  <thead>\n",
       "    <tr style=\"text-align: right;\">\n",
       "      <th></th>\n",
       "      <th>BRNUM</th>\n",
       "      <th>deposit2010</th>\n",
       "      <th>deposit2011</th>\n",
       "      <th>deposit2012</th>\n",
       "      <th>deposit2013</th>\n",
       "      <th>deposit2014</th>\n",
       "      <th>deposit2015</th>\n",
       "      <th>deposit2016</th>\n",
       "    </tr>\n",
       "  </thead>\n",
       "  <tbody>\n",
       "    <tr>\n",
       "      <th>0</th>\n",
       "      <td>1959</td>\n",
       "      <td>75317</td>\n",
       "      <td>80050</td>\n",
       "      <td>91765</td>\n",
       "      <td>100294</td>\n",
       "      <td>106269</td>\n",
       "      <td>112422</td>\n",
       "      <td>119950</td>\n",
       "    </tr>\n",
       "    <tr>\n",
       "      <th>1</th>\n",
       "      <td>1838</td>\n",
       "      <td>22101086</td>\n",
       "      <td>27521204</td>\n",
       "      <td>36219931</td>\n",
       "      <td>39152650</td>\n",
       "      <td>47103774</td>\n",
       "      <td>43326953</td>\n",
       "      <td>36539028</td>\n",
       "    </tr>\n",
       "    <tr>\n",
       "      <th>2</th>\n",
       "      <td>1255</td>\n",
       "      <td>3737</td>\n",
       "      <td>4173</td>\n",
       "      <td>4105</td>\n",
       "      <td>3105</td>\n",
       "      <td>3517</td>\n",
       "      <td>3522</td>\n",
       "      <td>3352</td>\n",
       "    </tr>\n",
       "    <tr>\n",
       "      <th>3</th>\n",
       "      <td>1016</td>\n",
       "      <td>165</td>\n",
       "      <td>158</td>\n",
       "      <td>162</td>\n",
       "      <td>139</td>\n",
       "      <td>133</td>\n",
       "      <td>118</td>\n",
       "      <td>157</td>\n",
       "    </tr>\n",
       "    <tr>\n",
       "      <th>4</th>\n",
       "      <td>3864</td>\n",
       "      <td>68135</td>\n",
       "      <td>68040</td>\n",
       "      <td>76559</td>\n",
       "      <td>87474</td>\n",
       "      <td>90723</td>\n",
       "      <td>103617</td>\n",
       "      <td>104412</td>\n",
       "    </tr>\n",
       "    <tr>\n",
       "      <th>5</th>\n",
       "      <td>4025</td>\n",
       "      <td>37328</td>\n",
       "      <td>36002</td>\n",
       "      <td>38649</td>\n",
       "      <td>39484</td>\n",
       "      <td>43791</td>\n",
       "      <td>42043</td>\n",
       "      <td>68676</td>\n",
       "    </tr>\n",
       "    <tr>\n",
       "      <th>6</th>\n",
       "      <td>4706</td>\n",
       "      <td>35263</td>\n",
       "      <td>35236</td>\n",
       "      <td>36871</td>\n",
       "      <td>39804</td>\n",
       "      <td>42349</td>\n",
       "      <td>51440</td>\n",
       "      <td>59205</td>\n",
       "    </tr>\n",
       "    <tr>\n",
       "      <th>7</th>\n",
       "      <td>4405</td>\n",
       "      <td>0</td>\n",
       "      <td>0</td>\n",
       "      <td>0</td>\n",
       "      <td>0</td>\n",
       "      <td>0</td>\n",
       "      <td>0</td>\n",
       "      <td>0</td>\n",
       "    </tr>\n",
       "    <tr>\n",
       "      <th>8</th>\n",
       "      <td>4036</td>\n",
       "      <td>41257</td>\n",
       "      <td>59694</td>\n",
       "      <td>66824</td>\n",
       "      <td>74288</td>\n",
       "      <td>99026</td>\n",
       "      <td>109978</td>\n",
       "      <td>98697</td>\n",
       "    </tr>\n",
       "    <tr>\n",
       "      <th>9</th>\n",
       "      <td>2420</td>\n",
       "      <td>16695</td>\n",
       "      <td>15849</td>\n",
       "      <td>18657</td>\n",
       "      <td>21822</td>\n",
       "      <td>18887</td>\n",
       "      <td>23347</td>\n",
       "      <td>25858</td>\n",
       "    </tr>\n",
       "  </tbody>\n",
       "</table>\n",
       "</div>"
      ],
      "text/plain": [
       "   BRNUM  deposit2010  deposit2011  deposit2012  deposit2013  deposit2014  \\\n",
       "0   1959        75317        80050        91765       100294       106269   \n",
       "1   1838     22101086     27521204     36219931     39152650     47103774   \n",
       "2   1255         3737         4173         4105         3105         3517   \n",
       "3   1016          165          158          162          139          133   \n",
       "4   3864        68135        68040        76559        87474        90723   \n",
       "5   4025        37328        36002        38649        39484        43791   \n",
       "6   4706        35263        35236        36871        39804        42349   \n",
       "7   4405            0            0            0            0            0   \n",
       "8   4036        41257        59694        66824        74288        99026   \n",
       "9   2420        16695        15849        18657        21822        18887   \n",
       "\n",
       "   deposit2015  deposit2016  \n",
       "0       112422       119950  \n",
       "1     43326953     36539028  \n",
       "2         3522         3352  \n",
       "3          118          157  \n",
       "4       103617       104412  \n",
       "5        42043        68676  \n",
       "6        51440        59205  \n",
       "7            0            0  \n",
       "8       109978        98697  \n",
       "9        23347        25858  "
      ]
     },
     "execution_count": 20,
     "metadata": {},
     "output_type": "execute_result"
    }
   ],
   "source": [
    "a_b_c_d_e_f_g['deposit2010'] = pd.to_numeric(a_b_c_d_e_f_g['deposit2010'])\n",
    "a_b_c_d_e_f_g['deposit2011'] = pd.to_numeric(a_b_c_d_e_f_g['deposit2011'])\n",
    "a_b_c_d_e_f_g['deposit2012'] = pd.to_numeric(a_b_c_d_e_f_g['deposit2012'])\n",
    "a_b_c_d_e_f_g['deposit2013'] = pd.to_numeric(a_b_c_d_e_f_g['deposit2013'])\n",
    "a_b_c_d_e_f_g['deposit2014'] = pd.to_numeric(a_b_c_d_e_f_g['deposit2014'])\n",
    "a_b_c_d_e_f_g['deposit2015'] = pd.to_numeric(a_b_c_d_e_f_g['deposit2015'])\n",
    "a_b_c_d_e_f_g['deposit2016'] = pd.to_numeric(a_b_c_d_e_f_g['deposit2016'])\n",
    "a_b_c_d_e_f_g.head(10)"
   ]
  },
  {
   "cell_type": "code",
   "execution_count": 21,
   "metadata": {},
   "outputs": [
    {
     "data": {
      "text/html": [
       "<div>\n",
       "<style>\n",
       "    .dataframe thead tr:only-child th {\n",
       "        text-align: right;\n",
       "    }\n",
       "\n",
       "    .dataframe thead th {\n",
       "        text-align: left;\n",
       "    }\n",
       "\n",
       "    .dataframe tbody tr th {\n",
       "        vertical-align: top;\n",
       "    }\n",
       "</style>\n",
       "<table border=\"1\" class=\"dataframe\">\n",
       "  <thead>\n",
       "    <tr style=\"text-align: right;\">\n",
       "      <th></th>\n",
       "      <th>BRNUM</th>\n",
       "      <th>deposit2010</th>\n",
       "      <th>deposit2011</th>\n",
       "      <th>deposit2012</th>\n",
       "      <th>deposit2013</th>\n",
       "      <th>deposit2014</th>\n",
       "      <th>deposit2015</th>\n",
       "      <th>deposit2016</th>\n",
       "    </tr>\n",
       "  </thead>\n",
       "  <tbody>\n",
       "    <tr>\n",
       "      <th>0</th>\n",
       "      <td>1959</td>\n",
       "      <td>75317</td>\n",
       "      <td>80050</td>\n",
       "      <td>91765</td>\n",
       "      <td>100294</td>\n",
       "      <td>106269</td>\n",
       "      <td>112422</td>\n",
       "      <td>119950</td>\n",
       "    </tr>\n",
       "    <tr>\n",
       "      <th>1</th>\n",
       "      <td>1838</td>\n",
       "      <td>22101086</td>\n",
       "      <td>27521204</td>\n",
       "      <td>36219931</td>\n",
       "      <td>39152650</td>\n",
       "      <td>47103774</td>\n",
       "      <td>43326953</td>\n",
       "      <td>36539028</td>\n",
       "    </tr>\n",
       "    <tr>\n",
       "      <th>2</th>\n",
       "      <td>1255</td>\n",
       "      <td>3737</td>\n",
       "      <td>4173</td>\n",
       "      <td>4105</td>\n",
       "      <td>3105</td>\n",
       "      <td>3517</td>\n",
       "      <td>3522</td>\n",
       "      <td>3352</td>\n",
       "    </tr>\n",
       "    <tr>\n",
       "      <th>3</th>\n",
       "      <td>1016</td>\n",
       "      <td>165</td>\n",
       "      <td>158</td>\n",
       "      <td>162</td>\n",
       "      <td>139</td>\n",
       "      <td>133</td>\n",
       "      <td>118</td>\n",
       "      <td>157</td>\n",
       "    </tr>\n",
       "    <tr>\n",
       "      <th>4</th>\n",
       "      <td>3864</td>\n",
       "      <td>68135</td>\n",
       "      <td>68040</td>\n",
       "      <td>76559</td>\n",
       "      <td>87474</td>\n",
       "      <td>90723</td>\n",
       "      <td>103617</td>\n",
       "      <td>104412</td>\n",
       "    </tr>\n",
       "    <tr>\n",
       "      <th>5</th>\n",
       "      <td>4025</td>\n",
       "      <td>37328</td>\n",
       "      <td>36002</td>\n",
       "      <td>38649</td>\n",
       "      <td>39484</td>\n",
       "      <td>43791</td>\n",
       "      <td>42043</td>\n",
       "      <td>68676</td>\n",
       "    </tr>\n",
       "    <tr>\n",
       "      <th>6</th>\n",
       "      <td>4706</td>\n",
       "      <td>35263</td>\n",
       "      <td>35236</td>\n",
       "      <td>36871</td>\n",
       "      <td>39804</td>\n",
       "      <td>42349</td>\n",
       "      <td>51440</td>\n",
       "      <td>59205</td>\n",
       "    </tr>\n",
       "    <tr>\n",
       "      <th>8</th>\n",
       "      <td>4036</td>\n",
       "      <td>41257</td>\n",
       "      <td>59694</td>\n",
       "      <td>66824</td>\n",
       "      <td>74288</td>\n",
       "      <td>99026</td>\n",
       "      <td>109978</td>\n",
       "      <td>98697</td>\n",
       "    </tr>\n",
       "    <tr>\n",
       "      <th>9</th>\n",
       "      <td>2420</td>\n",
       "      <td>16695</td>\n",
       "      <td>15849</td>\n",
       "      <td>18657</td>\n",
       "      <td>21822</td>\n",
       "      <td>18887</td>\n",
       "      <td>23347</td>\n",
       "      <td>25858</td>\n",
       "    </tr>\n",
       "    <tr>\n",
       "      <th>11</th>\n",
       "      <td>1109</td>\n",
       "      <td>23868</td>\n",
       "      <td>26498</td>\n",
       "      <td>29740</td>\n",
       "      <td>32459</td>\n",
       "      <td>37747</td>\n",
       "      <td>38691</td>\n",
       "      <td>36928</td>\n",
       "    </tr>\n",
       "    <tr>\n",
       "      <th>12</th>\n",
       "      <td>1962</td>\n",
       "      <td>547669</td>\n",
       "      <td>556115</td>\n",
       "      <td>631600</td>\n",
       "      <td>666009</td>\n",
       "      <td>881141</td>\n",
       "      <td>990656</td>\n",
       "      <td>1028367</td>\n",
       "    </tr>\n",
       "    <tr>\n",
       "      <th>13</th>\n",
       "      <td>1282</td>\n",
       "      <td>23256</td>\n",
       "      <td>23621</td>\n",
       "      <td>26519</td>\n",
       "      <td>30861</td>\n",
       "      <td>32064</td>\n",
       "      <td>36867</td>\n",
       "      <td>38119</td>\n",
       "    </tr>\n",
       "    <tr>\n",
       "      <th>14</th>\n",
       "      <td>1678</td>\n",
       "      <td>31807</td>\n",
       "      <td>34564</td>\n",
       "      <td>44834</td>\n",
       "      <td>46017</td>\n",
       "      <td>52971</td>\n",
       "      <td>46091</td>\n",
       "      <td>46381</td>\n",
       "    </tr>\n",
       "    <tr>\n",
       "      <th>16</th>\n",
       "      <td>3800</td>\n",
       "      <td>53524</td>\n",
       "      <td>55982</td>\n",
       "      <td>56171</td>\n",
       "      <td>55817</td>\n",
       "      <td>62598</td>\n",
       "      <td>61901</td>\n",
       "      <td>64156</td>\n",
       "    </tr>\n",
       "    <tr>\n",
       "      <th>17</th>\n",
       "      <td>131</td>\n",
       "      <td>356382</td>\n",
       "      <td>372278</td>\n",
       "      <td>416956</td>\n",
       "      <td>446580</td>\n",
       "      <td>446229</td>\n",
       "      <td>471622</td>\n",
       "      <td>513718</td>\n",
       "    </tr>\n",
       "    <tr>\n",
       "      <th>18</th>\n",
       "      <td>4512</td>\n",
       "      <td>141639</td>\n",
       "      <td>149054</td>\n",
       "      <td>177620</td>\n",
       "      <td>190806</td>\n",
       "      <td>221642</td>\n",
       "      <td>240864</td>\n",
       "      <td>272159</td>\n",
       "    </tr>\n",
       "    <tr>\n",
       "      <th>19</th>\n",
       "      <td>4762</td>\n",
       "      <td>61743</td>\n",
       "      <td>69422</td>\n",
       "      <td>75659</td>\n",
       "      <td>80735</td>\n",
       "      <td>84700</td>\n",
       "      <td>103011</td>\n",
       "      <td>105126</td>\n",
       "    </tr>\n",
       "    <tr>\n",
       "      <th>20</th>\n",
       "      <td>121</td>\n",
       "      <td>130285</td>\n",
       "      <td>136220</td>\n",
       "      <td>146084</td>\n",
       "      <td>175561</td>\n",
       "      <td>188246</td>\n",
       "      <td>226631</td>\n",
       "      <td>248397</td>\n",
       "    </tr>\n",
       "    <tr>\n",
       "      <th>21</th>\n",
       "      <td>5293</td>\n",
       "      <td>72176</td>\n",
       "      <td>68208</td>\n",
       "      <td>66234</td>\n",
       "      <td>66067</td>\n",
       "      <td>65224</td>\n",
       "      <td>66810</td>\n",
       "      <td>67563</td>\n",
       "    </tr>\n",
       "    <tr>\n",
       "      <th>22</th>\n",
       "      <td>1593</td>\n",
       "      <td>47826</td>\n",
       "      <td>50516</td>\n",
       "      <td>59726</td>\n",
       "      <td>68762</td>\n",
       "      <td>73417</td>\n",
       "      <td>85279</td>\n",
       "      <td>97695</td>\n",
       "    </tr>\n",
       "  </tbody>\n",
       "</table>\n",
       "</div>"
      ],
      "text/plain": [
       "    BRNUM  deposit2010  deposit2011  deposit2012  deposit2013  deposit2014  \\\n",
       "0    1959        75317        80050        91765       100294       106269   \n",
       "1    1838     22101086     27521204     36219931     39152650     47103774   \n",
       "2    1255         3737         4173         4105         3105         3517   \n",
       "3    1016          165          158          162          139          133   \n",
       "4    3864        68135        68040        76559        87474        90723   \n",
       "5    4025        37328        36002        38649        39484        43791   \n",
       "6    4706        35263        35236        36871        39804        42349   \n",
       "8    4036        41257        59694        66824        74288        99026   \n",
       "9    2420        16695        15849        18657        21822        18887   \n",
       "11   1109        23868        26498        29740        32459        37747   \n",
       "12   1962       547669       556115       631600       666009       881141   \n",
       "13   1282        23256        23621        26519        30861        32064   \n",
       "14   1678        31807        34564        44834        46017        52971   \n",
       "16   3800        53524        55982        56171        55817        62598   \n",
       "17    131       356382       372278       416956       446580       446229   \n",
       "18   4512       141639       149054       177620       190806       221642   \n",
       "19   4762        61743        69422        75659        80735        84700   \n",
       "20    121       130285       136220       146084       175561       188246   \n",
       "21   5293        72176        68208        66234        66067        65224   \n",
       "22   1593        47826        50516        59726        68762        73417   \n",
       "\n",
       "    deposit2015  deposit2016  \n",
       "0        112422       119950  \n",
       "1      43326953     36539028  \n",
       "2          3522         3352  \n",
       "3           118          157  \n",
       "4        103617       104412  \n",
       "5         42043        68676  \n",
       "6         51440        59205  \n",
       "8        109978        98697  \n",
       "9         23347        25858  \n",
       "11        38691        36928  \n",
       "12       990656      1028367  \n",
       "13        36867        38119  \n",
       "14        46091        46381  \n",
       "16        61901        64156  \n",
       "17       471622       513718  \n",
       "18       240864       272159  \n",
       "19       103011       105126  \n",
       "20       226631       248397  \n",
       "21        66810        67563  \n",
       "22        85279        97695  "
      ]
     },
     "execution_count": 21,
     "metadata": {},
     "output_type": "execute_result"
    }
   ],
   "source": [
    "a_b_c_d_e_f_g = a_b_c_d_e_f_g[~(a_b_c_d_e_f_g == 0).any(axis=1)]\n",
    "a_b_c_d_e_f_g.head(20)"
   ]
  },
  {
   "cell_type": "code",
   "execution_count": 22,
   "metadata": {
    "collapsed": true
   },
   "outputs": [],
   "source": [
    "from sklearn.linear_model import LinearRegression\n",
    "lm = LinearRegression()"
   ]
  },
  {
   "cell_type": "code",
   "execution_count": 23,
   "metadata": {
    "collapsed": true
   },
   "outputs": [],
   "source": [
    "x = a_b_c_d_e_f_g[['deposit2010', 'deposit2011', 'deposit2012', 'deposit2013',\n",
    "       'deposit2014', 'deposit2015']]\n",
    "y = a_b_c_d_e_f_g['deposit2016']"
   ]
  },
  {
   "cell_type": "code",
   "execution_count": 24,
   "metadata": {},
   "outputs": [
    {
     "data": {
      "text/plain": [
       "LinearRegression(copy_X=True, fit_intercept=True, n_jobs=1, normalize=False)"
      ]
     },
     "execution_count": 24,
     "metadata": {},
     "output_type": "execute_result"
    }
   ],
   "source": [
    "lm.fit(x,y)"
   ]
  },
  {
   "cell_type": "code",
   "execution_count": 25,
   "metadata": {
    "collapsed": true
   },
   "outputs": [],
   "source": [
    "x_2 = a_b_c_d_e_f_g[['deposit2011','deposit2012', 'deposit2013',\n",
    "       'deposit2014', 'deposit2015','deposit2016']]\n",
    "i = lm.predict(x_2)"
   ]
  },
  {
   "cell_type": "code",
   "execution_count": 26,
   "metadata": {},
   "outputs": [
    {
     "data": {
      "text/html": [
       "<div>\n",
       "<style>\n",
       "    .dataframe thead tr:only-child th {\n",
       "        text-align: right;\n",
       "    }\n",
       "\n",
       "    .dataframe thead th {\n",
       "        text-align: left;\n",
       "    }\n",
       "\n",
       "    .dataframe tbody tr th {\n",
       "        vertical-align: top;\n",
       "    }\n",
       "</style>\n",
       "<table border=\"1\" class=\"dataframe\">\n",
       "  <thead>\n",
       "    <tr style=\"text-align: right;\">\n",
       "      <th></th>\n",
       "      <th>BRNUM</th>\n",
       "      <th>deposit2017</th>\n",
       "    </tr>\n",
       "  </thead>\n",
       "  <tbody>\n",
       "    <tr>\n",
       "      <th>0</th>\n",
       "      <td>1959</td>\n",
       "      <td>1.295097e+05</td>\n",
       "    </tr>\n",
       "    <tr>\n",
       "      <th>1</th>\n",
       "      <td>1838</td>\n",
       "      <td>4.051054e+07</td>\n",
       "    </tr>\n",
       "    <tr>\n",
       "      <th>2</th>\n",
       "      <td>1255</td>\n",
       "      <td>-9.323128e+03</td>\n",
       "    </tr>\n",
       "    <tr>\n",
       "      <th>3</th>\n",
       "      <td>1016</td>\n",
       "      <td>-1.537578e+04</td>\n",
       "    </tr>\n",
       "    <tr>\n",
       "      <th>4</th>\n",
       "      <td>3864</td>\n",
       "      <td>1.026935e+05</td>\n",
       "    </tr>\n",
       "  </tbody>\n",
       "</table>\n",
       "</div>"
      ],
      "text/plain": [
       "   BRNUM   deposit2017\n",
       "0   1959  1.295097e+05\n",
       "1   1838  4.051054e+07\n",
       "2   1255 -9.323128e+03\n",
       "3   1016 -1.537578e+04\n",
       "4   3864  1.026935e+05"
      ]
     },
     "execution_count": 26,
     "metadata": {},
     "output_type": "execute_result"
    }
   ],
   "source": [
    "a_b_c_d_e_f_g['deposit2017']=i\n",
    "j = a_b_c_d_e_f_g[['BRNUM','deposit2017']]\n",
    "z = pd.DataFrame(i)\n",
    "j.head()"
   ]
  },
  {
   "cell_type": "code",
   "execution_count": 27,
   "metadata": {},
   "outputs": [
    {
     "name": "stderr",
     "output_type": "stream",
     "text": [
      "/anaconda3/lib/python3.6/site-packages/ipykernel_launcher.py:2: SettingWithCopyWarning: \n",
      "A value is trying to be set on a copy of a slice from a DataFrame.\n",
      "Try using .loc[row_indexer,col_indexer] = value instead\n",
      "\n",
      "See the caveats in the documentation: http://pandas.pydata.org/pandas-docs/stable/indexing.html#indexing-view-versus-copy\n",
      "  \n"
     ]
    },
    {
     "data": {
      "text/html": [
       "<div>\n",
       "<style>\n",
       "    .dataframe thead tr:only-child th {\n",
       "        text-align: right;\n",
       "    }\n",
       "\n",
       "    .dataframe thead th {\n",
       "        text-align: left;\n",
       "    }\n",
       "\n",
       "    .dataframe tbody tr th {\n",
       "        vertical-align: top;\n",
       "    }\n",
       "</style>\n",
       "<table border=\"1\" class=\"dataframe\">\n",
       "  <thead>\n",
       "    <tr style=\"text-align: right;\">\n",
       "      <th></th>\n",
       "      <th>BRNUM</th>\n",
       "      <th>deposit2017</th>\n",
       "    </tr>\n",
       "  </thead>\n",
       "  <tbody>\n",
       "    <tr>\n",
       "      <th>0</th>\n",
       "      <td>1959</td>\n",
       "      <td>129509</td>\n",
       "    </tr>\n",
       "    <tr>\n",
       "      <th>1</th>\n",
       "      <td>1838</td>\n",
       "      <td>40510539</td>\n",
       "    </tr>\n",
       "    <tr>\n",
       "      <th>2</th>\n",
       "      <td>1255</td>\n",
       "      <td>-9323</td>\n",
       "    </tr>\n",
       "    <tr>\n",
       "      <th>3</th>\n",
       "      <td>1016</td>\n",
       "      <td>-15375</td>\n",
       "    </tr>\n",
       "    <tr>\n",
       "      <th>4</th>\n",
       "      <td>3864</td>\n",
       "      <td>102693</td>\n",
       "    </tr>\n",
       "    <tr>\n",
       "      <th>5</th>\n",
       "      <td>4025</td>\n",
       "      <td>80908</td>\n",
       "    </tr>\n",
       "    <tr>\n",
       "      <th>6</th>\n",
       "      <td>4706</td>\n",
       "      <td>58584</td>\n",
       "    </tr>\n",
       "    <tr>\n",
       "      <th>8</th>\n",
       "      <td>4036</td>\n",
       "      <td>95788</td>\n",
       "    </tr>\n",
       "    <tr>\n",
       "      <th>9</th>\n",
       "      <td>2420</td>\n",
       "      <td>12983</td>\n",
       "    </tr>\n",
       "    <tr>\n",
       "      <th>11</th>\n",
       "      <td>1109</td>\n",
       "      <td>28362</td>\n",
       "    </tr>\n",
       "  </tbody>\n",
       "</table>\n",
       "</div>"
      ],
      "text/plain": [
       "    BRNUM  deposit2017\n",
       "0    1959       129509\n",
       "1    1838     40510539\n",
       "2    1255        -9323\n",
       "3    1016       -15375\n",
       "4    3864       102693\n",
       "5    4025        80908\n",
       "6    4706        58584\n",
       "8    4036        95788\n",
       "9    2420        12983\n",
       "11   1109        28362"
      ]
     },
     "execution_count": 27,
     "metadata": {},
     "output_type": "execute_result"
    }
   ],
   "source": [
    "#z.columns = ['a']\n",
    "j['deposit2017'] = j['deposit2017'].apply(int)\n",
    "j.head(10)"
   ]
  },
  {
   "cell_type": "code",
   "execution_count": 27,
   "metadata": {},
   "outputs": [
    {
     "name": "stdout",
     "output_type": "stream",
     "text": [
      "/Users/xiadylan\r\n"
     ]
    }
   ],
   "source": [
    "!pwd"
   ]
  },
  {
   "cell_type": "code",
   "execution_count": 28,
   "metadata": {
    "collapsed": true
   },
   "outputs": [],
   "source": [
    "os.getcwd()\n",
    "os.chdir(\"/Users/xiadylan/Documents\")"
   ]
  },
  {
   "cell_type": "code",
   "execution_count": 35,
   "metadata": {
    "collapsed": true
   },
   "outputs": [],
   "source": [
    "j.to_csv('Chase_Bank')"
   ]
  },
  {
   "cell_type": "code",
   "execution_count": 32,
   "metadata": {
    "collapsed": true
   },
   "outputs": [],
   "source": [
    "data_2017 = df_2017_data[['BRNUM','DEPSUMBR']]"
   ]
  },
  {
   "cell_type": "code",
   "execution_count": 34,
   "metadata": {
    "collapsed": true
   },
   "outputs": [],
   "source": [
    "predicted_deposit = pd.merge(data_2017,j,on='BRNUM')"
   ]
  },
  {
   "cell_type": "code",
   "execution_count": 35,
   "metadata": {
    "collapsed": true
   },
   "outputs": [],
   "source": [
    "predicted_deposit['DEPSUMBR'] = predicted_deposit['DEPSUMBR'].apply(lambda x: x.replace(\",\",\"\"))\n",
    "predicted_deposit['DEPSUMBR'] = pd.to_numeric(predicted_deposit['DEPSUMBR'])"
   ]
  },
  {
   "cell_type": "code",
   "execution_count": 36,
   "metadata": {
    "collapsed": true
   },
   "outputs": [],
   "source": [
    "#predicted_deposit['a'] = np.arange(1,4398)\n",
    "#predicted_deposit = predicted_deposit.drop('a',axis=1)\n",
    "#predicted_deposit['diff']=predicted_deposit['DEPSUMBR']-predicted_deposit['deposit2017']\n",
    "#sns.lmplot(x='a',y='DEPSUMBR',data=predicted_deposit)\n",
    "#!pwd\n",
    "#predicted_deposit.to_excel('predicted_deposit.xlsx')"
   ]
  },
  {
   "cell_type": "code",
   "execution_count": 55,
   "metadata": {},
   "outputs": [
    {
     "data": {
      "text/plain": [
       "BRNUM               3586\n",
       "DEPSUMBR       348521473\n",
       "deposit2017    402202433\n",
       "Name: 2673, dtype: int64"
      ]
     },
     "execution_count": 55,
     "metadata": {},
     "output_type": "execute_result"
    }
   ],
   "source": [
    "predicted_deposit.iloc[2673,:]"
   ]
  },
  {
   "cell_type": "code",
   "execution_count": 56,
   "metadata": {
    "collapsed": true
   },
   "outputs": [],
   "source": [
    "predicted_deposit = predicted_deposit.drop(predicted_deposit.index[2673])"
   ]
  },
  {
   "cell_type": "code",
   "execution_count": 57,
   "metadata": {},
   "outputs": [
    {
     "name": "stdout",
     "output_type": "stream",
     "text": [
      "<class 'pandas.core.frame.DataFrame'>\n",
      "Int64Index: 4401 entries, 0 to 4401\n",
      "Data columns (total 3 columns):\n",
      "BRNUM          4401 non-null int64\n",
      "DEPSUMBR       4401 non-null int64\n",
      "deposit2017    4401 non-null int64\n",
      "dtypes: int64(3)\n",
      "memory usage: 137.5 KB\n"
     ]
    }
   ],
   "source": [
    "predicted_deposit.info()"
   ]
  },
  {
   "cell_type": "code",
   "execution_count": 64,
   "metadata": {},
   "outputs": [
    {
     "data": {
      "image/png": "[encoded data removed]",
      "text/plain": [
       "<matplotlib.figure.Figure at 0x1a3a0000f0>"
      ]
     },
     "metadata": {},
     "output_type": "display_data"
    }
   ],
   "source": [
    "#plt.figure(figsize=[14,12])\n",
    "plt.plot(predicted_deposit['DEPSUMBR'])\n",
    "plt.plot(predicted_deposit['deposit2017'],alpha=0.5)\n",
    "plt.yscale('log')"
   ]
  },
  {
   "cell_type": "code",
   "execution_count": null,
   "metadata": {
    "collapsed": true
   },
   "outputs": [],
   "source": []
  },
  {
   "cell_type": "code",
   "execution_count": null,
   "metadata": {
    "collapsed": true
   },
   "outputs": [],
   "source": []
  },
  {
   "cell_type": "code",
   "execution_count": 115,
   "metadata": {},
   "outputs": [
    {
     "name": "stdout",
     "output_type": "stream",
     "text": [
      "/Users/xiadylan/Documents\r\n"
     ]
    }
   ],
   "source": [
    "!pwd"
   ]
  },
  {
   "cell_type": "code",
   "execution_count": 94,
   "metadata": {},
   "outputs": [
    {
     "name": "stderr",
     "output_type": "stream",
     "text": [
      "/anaconda3/lib/python3.6/site-packages/statsmodels/compat/pandas.py:56: FutureWarning: The pandas.core.datetools module is deprecated and will be removed in a future version. Please use the pandas.tseries module instead.\n",
      "  from pandas.core import datetools\n"
     ]
    }
   ],
   "source": [
    "import statsmodels.api as sm"
   ]
  },
  {
   "cell_type": "code",
   "execution_count": 95,
   "metadata": {
    "collapsed": true
   },
   "outputs": [],
   "source": [
    "x = a_b_c_d_e_f_g[['deposit2010', 'deposit2011', 'deposit2012', 'deposit2013',\n",
    "       'deposit2014', 'deposit2015']]\n",
    "y = a_b_c_d_e_f_g['deposit2016']"
   ]
  },
  {
   "cell_type": "code",
   "execution_count": 97,
   "metadata": {},
   "outputs": [
    {
     "data": {
      "text/html": [
       "<table class=\"simpletable\">\n",
       "<caption>OLS Regression Results</caption>\n",
       "<tr>\n",
       "  <th>Dep. Variable:</th>       <td>deposit2016</td>   <th>  R-squared:         </th> <td>   0.999</td> \n",
       "</tr>\n",
       "<tr>\n",
       "  <th>Model:</th>                   <td>OLS</td>       <th>  Adj. R-squared:    </th> <td>   0.999</td> \n",
       "</tr>\n",
       "<tr>\n",
       "  <th>Method:</th>             <td>Least Squares</td>  <th>  F-statistic:       </th> <td>6.493e+05</td>\n",
       "</tr>\n",
       "<tr>\n",
       "  <th>Date:</th>             <td>Tue, 24 Oct 2017</td> <th>  Prob (F-statistic):</th>  <td>  0.00</td>  \n",
       "</tr>\n",
       "<tr>\n",
       "  <th>Time:</th>                 <td>00:38:50</td>     <th>  Log-Likelihood:    </th> <td> -60939.</td> \n",
       "</tr>\n",
       "<tr>\n",
       "  <th>No. Observations:</th>      <td>  4532</td>      <th>  AIC:               </th> <td>1.219e+05</td>\n",
       "</tr>\n",
       "<tr>\n",
       "  <th>Df Residuals:</th>          <td>  4525</td>      <th>  BIC:               </th> <td>1.219e+05</td>\n",
       "</tr>\n",
       "<tr>\n",
       "  <th>Df Model:</th>              <td>     6</td>      <th>                     </th>     <td> </td>    \n",
       "</tr>\n",
       "<tr>\n",
       "  <th>Covariance Type:</th>      <td>nonrobust</td>    <th>                     </th>     <td> </td>    \n",
       "</tr>\n",
       "</table>\n",
       "<table class=\"simpletable\">\n",
       "<tr>\n",
       "       <td></td>          <th>coef</th>     <th>std err</th>      <th>t</th>      <th>P>|t|</th>  <th>[0.025</th>    <th>0.975]</th>  \n",
       "</tr>\n",
       "<tr>\n",
       "  <th>const</th>       <td>-1.565e+04</td> <td> 2513.497</td> <td>   -6.225</td> <td> 0.000</td> <td>-2.06e+04</td> <td>-1.07e+04</td>\n",
       "</tr>\n",
       "<tr>\n",
       "  <th>deposit2010</th> <td>    0.6586</td> <td>    0.027</td> <td>   24.660</td> <td> 0.000</td> <td>    0.606</td> <td>    0.711</td>\n",
       "</tr>\n",
       "<tr>\n",
       "  <th>deposit2011</th> <td>    0.9757</td> <td>    0.034</td> <td>   29.035</td> <td> 0.000</td> <td>    0.910</td> <td>    1.042</td>\n",
       "</tr>\n",
       "<tr>\n",
       "  <th>deposit2012</th> <td>   -1.3961</td> <td>    0.036</td> <td>  -38.315</td> <td> 0.000</td> <td>   -1.468</td> <td>   -1.325</td>\n",
       "</tr>\n",
       "<tr>\n",
       "  <th>deposit2013</th> <td>    0.2072</td> <td>    0.065</td> <td>    3.164</td> <td> 0.002</td> <td>    0.079</td> <td>    0.336</td>\n",
       "</tr>\n",
       "<tr>\n",
       "  <th>deposit2014</th> <td>   -0.5359</td> <td>    0.020</td> <td>  -27.332</td> <td> 0.000</td> <td>   -0.574</td> <td>   -0.497</td>\n",
       "</tr>\n",
       "<tr>\n",
       "  <th>deposit2015</th> <td>    1.5102</td> <td>    0.016</td> <td>   95.450</td> <td> 0.000</td> <td>    1.479</td> <td>    1.541</td>\n",
       "</tr>\n",
       "</table>\n",
       "<table class=\"simpletable\">\n",
       "<tr>\n",
       "  <th>Omnibus:</th>       <td>8029.311</td> <th>  Durbin-Watson:     </th>   <td>   1.997</td>   \n",
       "</tr>\n",
       "<tr>\n",
       "  <th>Prob(Omnibus):</th>  <td> 0.000</td>  <th>  Jarque-Bera (JB):  </th> <td>152719984.327</td>\n",
       "</tr>\n",
       "<tr>\n",
       "  <th>Skew:</th>           <td>-11.372</td> <th>  Prob(JB):          </th>   <td>    0.00</td>   \n",
       "</tr>\n",
       "<tr>\n",
       "  <th>Kurtosis:</th>       <td>902.021</td> <th>  Cond. No.          </th>   <td>8.84e+06</td>   \n",
       "</tr>\n",
       "</table>"
      ],
      "text/plain": [
       "<class 'statsmodels.iolib.summary.Summary'>\n",
       "\"\"\"\n",
       "                            OLS Regression Results                            \n",
       "==============================================================================\n",
       "Dep. Variable:            deposit2016   R-squared:                       0.999\n",
       "Model:                            OLS   Adj. R-squared:                  0.999\n",
       "Method:                 Least Squares   F-statistic:                 6.493e+05\n",
       "Date:                Tue, 24 Oct 2017   Prob (F-statistic):               0.00\n",
       "Time:                        00:38:50   Log-Likelihood:                -60939.\n",
       "No. Observations:                4532   AIC:                         1.219e+05\n",
       "Df Residuals:                    4525   BIC:                         1.219e+05\n",
       "Df Model:                           6                                         \n",
       "Covariance Type:            nonrobust                                         \n",
       "===============================================================================\n",
       "                  coef    std err          t      P>|t|      [0.025      0.975]\n",
       "-------------------------------------------------------------------------------\n",
       "const       -1.565e+04   2513.497     -6.225      0.000   -2.06e+04   -1.07e+04\n",
       "deposit2010     0.6586      0.027     24.660      0.000       0.606       0.711\n",
       "deposit2011     0.9757      0.034     29.035      0.000       0.910       1.042\n",
       "deposit2012    -1.3961      0.036    -38.315      0.000      -1.468      -1.325\n",
       "deposit2013     0.2072      0.065      3.164      0.002       0.079       0.336\n",
       "deposit2014    -0.5359      0.020    -27.332      0.000      -0.574      -0.497\n",
       "deposit2015     1.5102      0.016     95.450      0.000       1.479       1.541\n",
       "==============================================================================\n",
       "Omnibus:                     8029.311   Durbin-Watson:                   1.997\n",
       "Prob(Omnibus):                  0.000   Jarque-Bera (JB):        152719984.327\n",
       "Skew:                         -11.372   Prob(JB):                         0.00\n",
       "Kurtosis:                     902.021   Cond. No.                     8.84e+06\n",
       "==============================================================================\n",
       "\n",
       "Warnings:\n",
       "[1] Standard Errors assume that the covariance matrix of the errors is correctly specified.\n",
       "[2] The condition number is large, 8.84e+06. This might indicate that there are\n",
       "strong multicollinearity or other numerical problems.\n",
       "\"\"\""
      ]
     },
     "execution_count": 97,
     "metadata": {},
     "output_type": "execute_result"
    }
   ],
   "source": [
    "x2 = sm.add_constant(x)\n",
    "chase_model = sm.OLS(y,x2).fit()\n",
    "chase_model.summary()"
   ]
  },
  {
   "cell_type": "code",
   "execution_count": 102,
   "metadata": {},
   "outputs": [
    {
     "data": {
      "text/plain": [
       "0      -1.178210e+09\n",
       "1      -3.457369e+11\n",
       "2      -5.846005e+07\n",
       "3      -2.581200e+06\n",
       "4      -1.065872e+09\n",
       "5      -5.839100e+08\n",
       "6      -5.516249e+08\n",
       "8      -6.453654e+08\n",
       "9      -2.611691e+08\n",
       "11     -3.733773e+08\n",
       "12     -8.567171e+09\n",
       "13     -3.638036e+08\n",
       "14     -4.975705e+08\n",
       "16     -8.373069e+08\n",
       "17     -5.575048e+09\n",
       "18     -2.215647e+09\n",
       "19     -9.658579e+08\n",
       "20     -2.038064e+09\n",
       "21     -1.129116e+09\n",
       "22     -7.481380e+08\n",
       "23     -8.508142e+08\n",
       "24     -7.690572e+10\n",
       "25     -2.058513e+09\n",
       "26     -9.456302e+08\n",
       "27     -3.181537e+09\n",
       "28     -4.673116e+08\n",
       "29     -2.874584e+09\n",
       "30     -1.417909e+09\n",
       "31     -1.188684e+09\n",
       "32     -2.226432e+09\n",
       "            ...     \n",
       "4642   -1.011084e+09\n",
       "4643   -6.704241e+08\n",
       "4644   -2.806146e+08\n",
       "4645   -5.775122e+08\n",
       "4646   -1.224528e+09\n",
       "4647   -4.258747e+08\n",
       "4648   -6.151229e+08\n",
       "4649   -4.808960e+08\n",
       "4650   -9.740382e+08\n",
       "4651   -1.428835e+09\n",
       "4652   -7.119446e+08\n",
       "4653   -9.181258e+08\n",
       "4654   -7.687807e+08\n",
       "4655   -4.679916e+08\n",
       "4656   -3.861442e+08\n",
       "4657   -2.021835e+08\n",
       "4658   -1.811990e+09\n",
       "4659   -1.613509e+09\n",
       "4660   -5.305049e+08\n",
       "4661   -4.195411e+08\n",
       "4662   -7.143604e+08\n",
       "4663   -1.764990e+08\n",
       "4664   -4.245264e+08\n",
       "4666   -9.045105e+08\n",
       "4667   -8.296076e+08\n",
       "4668   -8.674656e+08\n",
       "4669   -5.306555e+08\n",
       "4670   -9.198715e+08\n",
       "4671   -7.959308e+08\n",
       "4672   -1.087566e+09\n",
       "Length: 4532, dtype: float64"
      ]
     },
     "execution_count": 102,
     "metadata": {},
     "output_type": "execute_result"
    }
   ],
   "source": [
    "chase_model.predict(a_b_c_d_e_f_g[['deposit2010','deposit2011','deposit2012','deposit2013','deposit2014','deposit2015','deposit2016']])\n"
   ]
  },
  {
   "cell_type": "code",
   "execution_count": null,
   "metadata": {
    "collapsed": true
   },
   "outputs": [],
   "source": []
  },
  {
   "cell_type": "code",
   "execution_count": 10,
   "metadata": {},
   "outputs": [
    {
     "data": {
      "text/plain": [
       "<matplotlib.axes._subplots.AxesSubplot at 0x1a19666828>"
      ]
     },
     "execution_count": 10,
     "metadata": {},
     "output_type": "execute_result"
    },
    {
     "data": {
      "image/png": "[encoded data removed]",
      "text/plain": [
       "<matplotlib.figure.Figure at 0x1a19666c18>"
      ]
     },
     "metadata": {},
     "output_type": "display_data"
    }
   ],
   "source": [
    "plt.figure(figsize=[14,10])\n",
    "sns.heatmap(df_2010.isnull(),yticklabels=False,cbar=False,cmap=\"Blues\")"
   ]
  }
 ],
 "metadata": {
  "kernelspec": {
   "display_name": "Python 3",
   "language": "python",
   "name": "python3"
  },
  "language_info": {
   "codemirror_mode": {
    "name": "ipython",
    "version": 3
   },
   "file_extension": ".py",
   "mimetype": "text/x-python",
   "name": "python",
   "nbconvert_exporter": "python",
   "pygments_lexer": "ipython3",
   "version": "3.6.1"
  }
 },
 "nbformat": 4,
 "nbformat_minor": 2
}
